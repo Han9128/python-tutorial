{
 "cells": [
  {
   "cell_type": "markdown",
   "id": "26b4b3d1",
   "metadata": {},
   "source": [
    "### A data structure is a storage that is used to store and organize data. It is a way of arranging data on a computer so that it can be accessed and updated efficiently."
   ]
  },
  {
   "cell_type": "markdown",
   "id": "ab6ab66f",
   "metadata": {},
   "source": [
    "#### In python there are four basic data structure:\n",
    "1. List  --> It is ordered, mutable(changeable) and can have duplicates\n",
    "2. Tuple --> It is ordered immutable(Unchangeable) and can have duplicates\n",
    "3. Set   --> It is unordered not mutable but element can be added or removed and can't have duplicate\n",
    "4. Dictionary --> it is unordered mutable(changeable) and can not have duplicates.\n"
   ]
  },
  {
   "cell_type": "markdown",
   "id": "83adc0f8",
   "metadata": {},
   "source": [
    "#### List"
   ]
  },
  {
   "cell_type": "code",
   "execution_count": 47,
   "id": "c5d7ae9a",
   "metadata": {},
   "outputs": [
    {
     "name": "stdout",
     "output_type": "stream",
     "text": [
      "[1, 'hello', 5.9, 'world'] <class 'list'>\n"
     ]
    }
   ],
   "source": [
    "L = [1,'hello',5.9,\"world\"] # It is initialized in square brackets and can contain all types of data\n",
    "print(L,type(L))  "
   ]
  },
  {
   "cell_type": "code",
   "execution_count": 48,
   "id": "500e3e51",
   "metadata": {},
   "outputs": [
    {
     "data": {
      "text/plain": [
       "'world'"
      ]
     },
     "execution_count": 48,
     "metadata": {},
     "output_type": "execute_result"
    }
   ],
   "source": [
    "# List is ordered that means its elements can be accessed by indexing\n",
    "L[3] # indexing start from 0 in python"
   ]
  },
  {
   "cell_type": "code",
   "execution_count": 49,
   "id": "ce8b7495",
   "metadata": {},
   "outputs": [
    {
     "data": {
      "text/plain": [
       "[1, 'hello', 6, 'world']"
      ]
     },
     "execution_count": 49,
     "metadata": {},
     "output_type": "execute_result"
    }
   ],
   "source": [
    "L[2]=6\n",
    "L        # See the output 3rd element is changed so list is mutable, Verified!"
   ]
  },
  {
   "cell_type": "code",
   "execution_count": 50,
   "id": "cad7cd1e",
   "metadata": {},
   "outputs": [
    {
     "data": {
      "text/plain": [
       "[1, 2, 4, 2]"
      ]
     },
     "execution_count": 50,
     "metadata": {},
     "output_type": "execute_result"
    }
   ],
   "source": [
    "# Lets check duplicate element in list\n",
    "L=[1,2,4,2]\n",
    "L"
   ]
  },
  {
   "cell_type": "code",
   "execution_count": 51,
   "id": "cb760bea",
   "metadata": {},
   "outputs": [
    {
     "data": {
      "text/plain": [
       "[1, 3, 5, 6]"
      ]
     },
     "execution_count": 51,
     "metadata": {},
     "output_type": "execute_result"
    }
   ],
   "source": [
    "# Alternative to initialize list\n",
    "L=list([1,3,5,6])\n",
    "L"
   ]
  },
  {
   "cell_type": "markdown",
   "id": "fcdac571",
   "metadata": {},
   "source": [
    "#### Tuple"
   ]
  },
  {
   "cell_type": "code",
   "execution_count": 52,
   "id": "5ccf0151",
   "metadata": {},
   "outputs": [
    {
     "name": "stdout",
     "output_type": "stream",
     "text": [
      "(1, 2, 4, 5) <class 'tuple'>\n"
     ]
    }
   ],
   "source": [
    "T=(1,2,4,5) # Tuple is initialized in small bracket (paranthesis)\n",
    "print(T,type(T))"
   ]
  },
  {
   "cell_type": "code",
   "execution_count": 53,
   "id": "abc3aacb",
   "metadata": {},
   "outputs": [
    {
     "data": {
      "text/plain": [
       "5"
      ]
     },
     "execution_count": 53,
     "metadata": {},
     "output_type": "execute_result"
    }
   ],
   "source": [
    "# Check is tuple is ordered\n",
    "T[3]"
   ]
  },
  {
   "cell_type": "code",
   "execution_count": 54,
   "id": "b7b62067",
   "metadata": {},
   "outputs": [
    {
     "ename": "TypeError",
     "evalue": "'tuple' object does not support item assignment",
     "output_type": "error",
     "traceback": [
      "\u001b[1;31m---------------------------------------------------------------------------\u001b[0m",
      "\u001b[1;31mTypeError\u001b[0m                                 Traceback (most recent call last)",
      "Input \u001b[1;32mIn [54]\u001b[0m, in \u001b[0;36m<cell line: 2>\u001b[1;34m()\u001b[0m\n\u001b[0;32m      1\u001b[0m \u001b[38;5;66;03m# Check tuple is mutable or not\u001b[39;00m\n\u001b[1;32m----> 2\u001b[0m T[\u001b[38;5;241m2\u001b[39m]\u001b[38;5;241m=\u001b[39m\u001b[38;5;124m'\u001b[39m\u001b[38;5;124mhello\u001b[39m\u001b[38;5;124m'\u001b[39m\n\u001b[0;32m      3\u001b[0m \u001b[38;5;28mprint\u001b[39m(T)\n",
      "\u001b[1;31mTypeError\u001b[0m: 'tuple' object does not support item assignment"
     ]
    }
   ],
   "source": [
    "# Check tuple is mutable or not\n",
    "T[2]='hello'\n",
    "print(T)  # It throws an error 'tuple object does not support assignmet' That means it not changeable"
   ]
  },
  {
   "cell_type": "code",
   "execution_count": 55,
   "id": "f26f2a67",
   "metadata": {},
   "outputs": [
    {
     "data": {
      "text/plain": [
       "(1, 3, 4, 1)"
      ]
     },
     "execution_count": 55,
     "metadata": {},
     "output_type": "execute_result"
    }
   ],
   "source": [
    "# Lets check it can have duplicates or not\n",
    "T=(1,3,4,1)\n",
    "T          # Yes it can have it accepts 1 twice"
   ]
  },
  {
   "cell_type": "code",
   "execution_count": 56,
   "id": "904fd106",
   "metadata": {},
   "outputs": [
    {
     "name": "stdout",
     "output_type": "stream",
     "text": [
      "(1, 2, 4, 5) <class 'tuple'>\n"
     ]
    }
   ],
   "source": [
    "# Alternative to initialize tuple\n",
    "T=tuple((1,2,4,5)) # t = tuple((values))\n",
    "print(T,type(T))"
   ]
  },
  {
   "cell_type": "markdown",
   "id": "7eca09c3",
   "metadata": {},
   "source": [
    "#### set"
   ]
  },
  {
   "cell_type": "code",
   "execution_count": 57,
   "id": "b3aea492",
   "metadata": {},
   "outputs": [
    {
     "name": "stdout",
     "output_type": "stream",
     "text": [
      "{1, 3, 4, 5, 'hello'} <class 'set'>\n"
     ]
    }
   ],
   "source": [
    "s={1,3,4,5,'hello'} # set is initialized using curly braces\n",
    "print(s,type(s))"
   ]
  },
  {
   "cell_type": "code",
   "execution_count": 58,
   "id": "78759b21",
   "metadata": {},
   "outputs": [
    {
     "ename": "TypeError",
     "evalue": "'set' object is not subscriptable",
     "output_type": "error",
     "traceback": [
      "\u001b[1;31m---------------------------------------------------------------------------\u001b[0m",
      "\u001b[1;31mTypeError\u001b[0m                                 Traceback (most recent call last)",
      "Input \u001b[1;32mIn [58]\u001b[0m, in \u001b[0;36m<cell line: 2>\u001b[1;34m()\u001b[0m\n\u001b[0;32m      1\u001b[0m \u001b[38;5;66;03m# Lets check set is ordered or not\u001b[39;00m\n\u001b[1;32m----> 2\u001b[0m \u001b[43ms\u001b[49m\u001b[43m[\u001b[49m\u001b[38;5;241;43m0\u001b[39;49m\u001b[43m]\u001b[49m\n",
      "\u001b[1;31mTypeError\u001b[0m: 'set' object is not subscriptable"
     ]
    }
   ],
   "source": [
    "# Lets check set is ordered or not\n",
    "s[0] # it throws an error that 'set' object is not subscriptable, so set is not ordered"
   ]
  },
  {
   "cell_type": "code",
   "execution_count": 59,
   "id": "57744879",
   "metadata": {},
   "outputs": [
    {
     "ename": "TypeError",
     "evalue": "'set' object does not support item assignment",
     "output_type": "error",
     "traceback": [
      "\u001b[1;31m---------------------------------------------------------------------------\u001b[0m",
      "\u001b[1;31mTypeError\u001b[0m                                 Traceback (most recent call last)",
      "Input \u001b[1;32mIn [59]\u001b[0m, in \u001b[0;36m<cell line: 2>\u001b[1;34m()\u001b[0m\n\u001b[0;32m      1\u001b[0m \u001b[38;5;66;03m# check set is mutable or not\u001b[39;00m\n\u001b[1;32m----> 2\u001b[0m s[\u001b[38;5;241m0\u001b[39m]\u001b[38;5;241m=\u001b[39m\u001b[38;5;241m5\u001b[39m  \u001b[38;5;66;03m# It throws an error that 'set' object does not support item assignment, so it is immutable\u001b[39;00m\n\u001b[0;32m      3\u001b[0m s\n",
      "\u001b[1;31mTypeError\u001b[0m: 'set' object does not support item assignment"
     ]
    }
   ],
   "source": [
    "# check set is mutable or not\n",
    "s[0]=5  # It throws an error that 'set' object does not support item assignment, so it is immutable\n",
    "s"
   ]
  },
  {
   "cell_type": "code",
   "execution_count": 60,
   "id": "04e85fd5",
   "metadata": {},
   "outputs": [
    {
     "data": {
      "text/plain": [
       "{1, 3, 4, 5, 'add', 'hello'}"
      ]
     },
     "execution_count": 60,
     "metadata": {},
     "output_type": "execute_result"
    }
   ],
   "source": [
    "# But we can add and remove elements from se\n",
    "s.add('add')\n",
    "s"
   ]
  },
  {
   "cell_type": "code",
   "execution_count": 61,
   "id": "1c380300",
   "metadata": {},
   "outputs": [
    {
     "data": {
      "text/plain": [
       "{1, 4, 5, 'add', 'hello'}"
      ]
     },
     "execution_count": 61,
     "metadata": {},
     "output_type": "execute_result"
    }
   ],
   "source": [
    "s.remove(3)\n",
    "s"
   ]
  },
  {
   "cell_type": "code",
   "execution_count": 62,
   "id": "128cec4c",
   "metadata": {},
   "outputs": [
    {
     "data": {
      "text/plain": [
       "{1, 4, 5, 'add', 'hello', 'more'}"
      ]
     },
     "execution_count": 62,
     "metadata": {},
     "output_type": "execute_result"
    }
   ],
   "source": [
    "# want to add more than on elements use .update()\n",
    "s.update({\"add\",\"more\"})\n",
    "s"
   ]
  },
  {
   "cell_type": "markdown",
   "id": "d864d64e",
   "metadata": {},
   "source": [
    "#### Dictionray"
   ]
  },
  {
   "cell_type": "code",
   "execution_count": 63,
   "id": "fc33fbcc",
   "metadata": {},
   "outputs": [
    {
     "name": "stdout",
     "output_type": "stream",
     "text": [
      "{'name': 'Anas', 'Roll No': 'xxxxx', 'Age': 0, 'D.O.B': '02-1-2002', 'percent': 90} <class 'dict'>\n",
      "{'name': 'Anas', 'Roll No': 'xxxxx', 'Age': 0, 'D.O.B': '02-1-2002', 'percent': 90}\n",
      "{'name': 'Anas', 'Roll No': 'xxxxx', 'Age': 0, 'D.O.B': '02-1-2002', 'percent': 90}\n"
     ]
    }
   ],
   "source": [
    "# Dict is initialized using curly braces but it is in key:value pair\n",
    "D={\"name\":\"Anas\",\"Roll No\": \"xxxxx\",\"Age\":0,\"D.O.B\":\"02-1-2002\",\"percent\":90}\n",
    "print(D,type(D))\n",
    "print(D)\n",
    "print(D)"
   ]
  },
  {
   "cell_type": "code",
   "execution_count": 64,
   "id": "cab45fe7",
   "metadata": {},
   "outputs": [
    {
     "name": "stdout",
     "output_type": "stream",
     "text": [
      "Anas\n"
     ]
    }
   ],
   "source": [
    "# Dict element can be accessed using key\n",
    "D[\"percent\"]\n",
    "print(D[\"name\"])"
   ]
  },
  {
   "cell_type": "code",
   "execution_count": 65,
   "id": "e84851be",
   "metadata": {},
   "outputs": [
    {
     "name": "stdout",
     "output_type": "stream",
     "text": [
      "{'name': 'Diab', 'Roll No': 'roll', 'Age': 0, 'D.O.B': '02-1-2002', 'CGPA': 0}\n"
     ]
    }
   ],
   "source": [
    "# Check dict can have duplicae or not?\n",
    "D={\"name\":\"anas\",\"Roll No\": \"roll\",\"Age\":0,\"D.O.B\":\"02-1-2002\",\"CGPA\":0,\"name\":\"Diab\"}\n",
    "print(D) # See name is updated by Diab it does not accept two diff value for a unique key"
   ]
  },
  {
   "cell_type": "code",
   "execution_count": 66,
   "id": "b2dad459",
   "metadata": {},
   "outputs": [
    {
     "data": {
      "text/plain": [
       "{'name': 'Anas',\n",
       " 'Roll No': 'xxxxxx',\n",
       " 'Age': 0,\n",
       " 'D.O.B': 'xx-xx-xxxx',\n",
       " 'CGPA': 0}"
      ]
     },
     "execution_count": 66,
     "metadata": {},
     "output_type": "execute_result"
    }
   ],
   "source": [
    "D={\"name\":\"Anas\",\"Roll No\": \"xxxxxx\",\"Age\":0,\"D.O.B\":\"xx-xx-xxxx\",\"CGPA\":0,\"name\":\"Anas\"}\n",
    "D # see name is printed once thought it was initialized twice so no duplicates allowed"
   ]
  },
  {
   "cell_type": "code",
   "execution_count": 67,
   "id": "867f62bc",
   "metadata": {},
   "outputs": [
    {
     "name": "stdout",
     "output_type": "stream",
     "text": [
      "{'name': 'Anas', 'Roll No': 'xxxxxx', 'Age': 0, 'D.O.B': 'xx-xx-xxxx', 'CGPA': 0, 'Institue': 'IIT Kharagpur'}\n"
     ]
    }
   ],
   "source": [
    "# Check dict is changeable or not\n",
    "D[\"Institue\"]=\"IIT Kharagpur\"\n",
    "print(D) # See instiute is added to original dict so it is mutable(changeable)"
   ]
  },
  {
   "cell_type": "markdown",
   "id": "2eafe9c5",
   "metadata": {},
   "source": [
    "#### concatenation"
   ]
  },
  {
   "cell_type": "code",
   "execution_count": 68,
   "id": "6a35ed14",
   "metadata": {},
   "outputs": [
    {
     "data": {
      "text/plain": [
       "[1, 3, 5, 6]"
      ]
     },
     "execution_count": 68,
     "metadata": {},
     "output_type": "execute_result"
    }
   ],
   "source": [
    "L"
   ]
  },
  {
   "cell_type": "code",
   "execution_count": 69,
   "id": "46439a35",
   "metadata": {},
   "outputs": [
    {
     "name": "stdout",
     "output_type": "stream",
     "text": [
      "[1, 3, 5, 6, 'one', 'three', 'five', 'six']\n"
     ]
    }
   ],
   "source": [
    "L2=L+[\"one\",\"three\",\"five\",\"six\"]\n",
    "print(L2)"
   ]
  },
  {
   "cell_type": "code",
   "execution_count": 70,
   "id": "60df7c06",
   "metadata": {},
   "outputs": [
    {
     "data": {
      "text/plain": [
       "[1, 3, 5, 6, 'three']"
      ]
     },
     "execution_count": 70,
     "metadata": {},
     "output_type": "execute_result"
    }
   ],
   "source": [
    "L.append(\"three\") #Append can only add one element at a time because it takes one argument only\n",
    "L"
   ]
  },
  {
   "cell_type": "code",
   "execution_count": 71,
   "id": "9709043d",
   "metadata": {},
   "outputs": [
    {
     "data": {
      "text/plain": [
       "(1, 2, 4, 5)"
      ]
     },
     "execution_count": 71,
     "metadata": {},
     "output_type": "execute_result"
    }
   ],
   "source": [
    "# Tuple is not mutable so we can just add two tuples\n",
    "T"
   ]
  },
  {
   "cell_type": "code",
   "execution_count": 72,
   "id": "15cbd675",
   "metadata": {},
   "outputs": [
    {
     "data": {
      "text/plain": [
       "(1, 2, 4, 5, 'one', 'two', 'four', 'five')"
      ]
     },
     "execution_count": 72,
     "metadata": {},
     "output_type": "execute_result"
    }
   ],
   "source": [
    "T2=(\"one\",\"two\",\"four\",\"five\")\n",
    "T3=T+T2\n",
    "T3"
   ]
  },
  {
   "cell_type": "code",
   "execution_count": 73,
   "id": "82d8fef2",
   "metadata": {},
   "outputs": [
    {
     "data": {
      "text/plain": [
       "[1, 3, 5, 'three']"
      ]
     },
     "execution_count": 73,
     "metadata": {},
     "output_type": "execute_result"
    }
   ],
   "source": [
    "# We can delete any particular element in list using del function\n",
    "del(L[3])\n",
    "L"
   ]
  },
  {
   "cell_type": "code",
   "execution_count": 74,
   "id": "485f9ba8",
   "metadata": {},
   "outputs": [
    {
     "ename": "TypeError",
     "evalue": "unsupported operand type(s) for +: 'dict' and 'dict'",
     "output_type": "error",
     "traceback": [
      "\u001b[1;31m---------------------------------------------------------------------------\u001b[0m",
      "\u001b[1;31mTypeError\u001b[0m                                 Traceback (most recent call last)",
      "Input \u001b[1;32mIn [74]\u001b[0m, in \u001b[0;36m<cell line: 3>\u001b[1;34m()\u001b[0m\n\u001b[0;32m      1\u001b[0m \u001b[38;5;66;03m# can we concatenate two dictionary using + operator\u001b[39;00m\n\u001b[0;32m      2\u001b[0m D2\u001b[38;5;241m=\u001b[39m{\u001b[38;5;124m\"\u001b[39m\u001b[38;5;124mVillage\u001b[39m\u001b[38;5;124m\"\u001b[39m:\u001b[38;5;124m\"\u001b[39m\u001b[38;5;124mxxxxx\u001b[39m\u001b[38;5;124m\"\u001b[39m,\u001b[38;5;124m\"\u001b[39m\u001b[38;5;124mPost+P.S\u001b[39m\u001b[38;5;124m\"\u001b[39m:\u001b[38;5;124m\"\u001b[39m\u001b[38;5;124mxxxxxx\u001b[39m\u001b[38;5;124m\"\u001b[39m,\u001b[38;5;124m\"\u001b[39m\u001b[38;5;124mDist\u001b[39m\u001b[38;5;124m\"\u001b[39m:\u001b[38;5;124m\"\u001b[39m\u001b[38;5;124mxxxxxx\u001b[39m\u001b[38;5;124m\"\u001b[39m}\n\u001b[1;32m----> 3\u001b[0m D3 \u001b[38;5;241m=\u001b[39m \u001b[43mD\u001b[49m\u001b[38;5;241;43m+\u001b[39;49m\u001b[43mD2\u001b[49m\n\u001b[0;32m      4\u001b[0m \u001b[38;5;28mprint\u001b[39m(D3)\n",
      "\u001b[1;31mTypeError\u001b[0m: unsupported operand type(s) for +: 'dict' and 'dict'"
     ]
    }
   ],
   "source": [
    "# can we concatenate two dictionary using + operator\n",
    "D2={\"Village\":\"xxxxx\",\"Post+P.S\":\"xxxxxx\",\"Dist\":\"xxxxxx\"}\n",
    "D3 = D+D2\n",
    "print(D3) # it throws an error unsupported operand so using + operactor dict cant be concatenated"
   ]
  },
  {
   "cell_type": "code",
   "execution_count": 75,
   "id": "103d8dcb",
   "metadata": {},
   "outputs": [
    {
     "name": "stdout",
     "output_type": "stream",
     "text": [
      "{'name': 'Anas', 'Roll No': 'xxxxxx', 'Age': 0, 'D.O.B': 'xx-xx-xxxx', 'CGPA': 0, 'Institue': 'IIT Kharagpur', 'Village': 'xxxxx', 'Post+P.S': 'xxxxxx', 'Dist': 'xxxxxx'}\n"
     ]
    }
   ],
   "source": [
    "# Lets try anothe method\n",
    "D.update(D2)\n",
    "print(D)  # So yeah using update method dict can be concatenated"
   ]
  },
  {
   "cell_type": "markdown",
   "id": "1249abf4",
   "metadata": {},
   "source": [
    "#### Copying "
   ]
  },
  {
   "cell_type": "code",
   "execution_count": 76,
   "id": "f74af870",
   "metadata": {},
   "outputs": [
    {
     "data": {
      "text/plain": [
       "[1, 3, 5, 'three']"
      ]
     },
     "execution_count": 76,
     "metadata": {},
     "output_type": "execute_result"
    }
   ],
   "source": [
    "L"
   ]
  },
  {
   "cell_type": "code",
   "execution_count": 77,
   "id": "f81347a1",
   "metadata": {},
   "outputs": [],
   "source": [
    "L2=L"
   ]
  },
  {
   "cell_type": "code",
   "execution_count": 78,
   "id": "6e5879bb",
   "metadata": {},
   "outputs": [
    {
     "data": {
      "text/plain": [
       "[1, 3, 5, 'three']"
      ]
     },
     "execution_count": 78,
     "metadata": {},
     "output_type": "execute_result"
    }
   ],
   "source": [
    "L2"
   ]
  },
  {
   "cell_type": "code",
   "execution_count": 79,
   "id": "d6fb619f",
   "metadata": {},
   "outputs": [
    {
     "data": {
      "text/plain": [
       "[1, 3, 'five', 'three']"
      ]
     },
     "execution_count": 79,
     "metadata": {},
     "output_type": "execute_result"
    }
   ],
   "source": [
    "L2[2]=\"five\"\n",
    "L2"
   ]
  },
  {
   "cell_type": "code",
   "execution_count": 80,
   "id": "dd6976a9",
   "metadata": {},
   "outputs": [
    {
     "data": {
      "text/plain": [
       "[1, 3, 'five', 'three']"
      ]
     },
     "execution_count": 80,
     "metadata": {},
     "output_type": "execute_result"
    }
   ],
   "source": [
    " \"\"\"So here we see that changing L2. L is also get changed that means assgining one list to the other\n",
    "     is not assigned by value but it is assigned by reference i,e they are pointing to same memory in \n",
    "     the computer thats why changing one other also get changed. It is same for set and dictionary.\n",
    "  \"\"\" \n",
    "L\n",
    "# There are two types of assgignement in programming:\n",
    "# 1. Assign by value: a copy of the variable is assigned to another variable\n",
    "# 2. Assign by reference: it share the memory of a variable with the other variable "
   ]
  },
  {
   "cell_type": "code",
   "execution_count": 81,
   "id": "b5c75280",
   "metadata": {},
   "outputs": [],
   "source": [
    "# Here copy() method comes in use\n",
    "L2= L.copy()"
   ]
  },
  {
   "cell_type": "code",
   "execution_count": 82,
   "id": "e86f08ad",
   "metadata": {},
   "outputs": [
    {
     "data": {
      "text/plain": [
       "[1, 3, 'five', 'three']"
      ]
     },
     "execution_count": 82,
     "metadata": {},
     "output_type": "execute_result"
    }
   ],
   "source": [
    "L2"
   ]
  },
  {
   "cell_type": "code",
   "execution_count": 83,
   "id": "1473f597",
   "metadata": {},
   "outputs": [
    {
     "data": {
      "text/plain": [
       "[1, 3, 5, 'three']"
      ]
     },
     "execution_count": 83,
     "metadata": {},
     "output_type": "execute_result"
    }
   ],
   "source": [
    "L2[2]=5\n",
    "L2"
   ]
  },
  {
   "cell_type": "code",
   "execution_count": 84,
   "id": "3a2b7868",
   "metadata": {},
   "outputs": [
    {
     "data": {
      "text/plain": [
       "[1, 3, 'five', 'three']"
      ]
     },
     "execution_count": 84,
     "metadata": {},
     "output_type": "execute_result"
    }
   ],
   "source": [
    "L # Here see L is not changed by changing L2 so copy method assign one list to the other by value."
   ]
  },
  {
   "cell_type": "code",
   "execution_count": 85,
   "id": "754a8cc5",
   "metadata": {},
   "outputs": [
    {
     "data": {
      "text/plain": [
       "[3, 'five', 'three']"
      ]
     },
     "execution_count": 85,
     "metadata": {},
     "output_type": "execute_result"
    }
   ],
   "source": [
    "L3=L[1:5]\n",
    "L3"
   ]
  },
  {
   "cell_type": "code",
   "execution_count": null,
   "id": "50431515",
   "metadata": {},
   "outputs": [],
   "source": [
    "L3[1]=5\n",
    "L3"
   ]
  },
  {
   "cell_type": "code",
   "execution_count": null,
   "id": "41d56da7",
   "metadata": {},
   "outputs": [],
   "source": [
    "L # See L is not changed by changing L3 so slicing does not point to the same memory it creates anohte memory"
   ]
  },
  {
   "cell_type": "code",
   "execution_count": null,
   "id": "07d38eae",
   "metadata": {},
   "outputs": [],
   "source": [
    "L"
   ]
  },
  {
   "cell_type": "code",
   "execution_count": null,
   "id": "b332e47a",
   "metadata": {},
   "outputs": [],
   "source": [
    "T"
   ]
  },
  {
   "cell_type": "code",
   "execution_count": null,
   "id": "87e260d1",
   "metadata": {},
   "outputs": [],
   "source": [
    "s"
   ]
  },
  {
   "cell_type": "code",
   "execution_count": null,
   "id": "8427821a",
   "metadata": {},
   "outputs": [],
   "source": [
    "D"
   ]
  },
  {
   "cell_type": "code",
   "execution_count": null,
   "id": "31e5dc03",
   "metadata": {},
   "outputs": [],
   "source": [
    "# we can put list,tuple,set and dictionary in any of the four basic datastrucuture\n",
    "D2={'A':L,'B':T,'C':s,'D':D}\n",
    "D2"
   ]
  },
  {
   "cell_type": "code",
   "execution_count": null,
   "id": "5a1a4503",
   "metadata": {},
   "outputs": [],
   "source": [
    "# Access thired element of the list inside the dict D2\n",
    "D2['A'][2]"
   ]
  },
  {
   "cell_type": "code",
   "execution_count": null,
   "id": "355a443c",
   "metadata": {},
   "outputs": [],
   "source": [
    "type(D2['A'])"
   ]
  },
  {
   "cell_type": "code",
   "execution_count": null,
   "id": "81251f8b",
   "metadata": {},
   "outputs": [],
   "source": [
    "# Datastructure can also be initialized as below\n",
    "L2=[x**2 for x in range(10)]\n",
    "L2"
   ]
  },
  {
   "cell_type": "code",
   "execution_count": null,
   "id": "0f243635",
   "metadata": {},
   "outputs": [],
   "source": [
    "s= {x*8 for x in range(0,20,2)}"
   ]
  },
  {
   "cell_type": "code",
   "execution_count": null,
   "id": "882a7a9c",
   "metadata": {},
   "outputs": [],
   "source": [
    "s"
   ]
  },
  {
   "cell_type": "code",
   "execution_count": null,
   "id": "30d91427",
   "metadata": {},
   "outputs": [],
   "source": [
    "\"\"\"\n",
    "Find average marks of each student who has performed in different subjects\n",
    "\"\"\"\n",
    "def getData():\n",
    "    student_dict={}\n",
    "    while True:\n",
    "        studentId = input(\"Enter id of each student:\")\n",
    "        studentMarks=(input(\"Enter marks of each student separated by comma:\"))\n",
    "        moreData=input(\"Enter \\\"yes\\\" for more data othewise enter\\\"no\\\" \")\n",
    "        if studentId in student_dict:\n",
    "            print(\"This id is already inserted!!\")\n",
    "            continue\n",
    "        else:\n",
    "            student_dict[studentId]=studentMarks.split(',')\n",
    "        if(moreData.lower()=='no'):\n",
    "            return student_dict\n",
    "        "
   ]
  },
  {
   "cell_type": "code",
   "execution_count": null,
   "id": "11574fc0",
   "metadata": {},
   "outputs": [],
   "source": [
    "Marks = getData()"
   ]
  },
  {
   "cell_type": "code",
   "execution_count": null,
   "id": "ba1ee53e",
   "metadata": {},
   "outputs": [],
   "source": [
    "Marks"
   ]
  },
  {
   "cell_type": "code",
   "execution_count": null,
   "id": "a83e2e03",
   "metadata": {},
   "outputs": [],
   "source": [
    "def Avgmarks(Marks_Dict):\n",
    "    for marks in Marks_Dict:\n",
    "        totalMarks = 0\n",
    "        for sub_marks in Marks_Dict[marks]:\n",
    "            totalMarks+=int(sub_marks)\n",
    "            AvgMarks[marks]=totalMarks/len(Marks_Dict[marks])\n",
    "\n",
    "    return AvgMarks\n",
    "        "
   ]
  },
  {
   "cell_type": "code",
   "execution_count": null,
   "id": "8e9a37b7",
   "metadata": {},
   "outputs": [],
   "source": [
    "AvgMarks=Avgmarks(Marks)\n",
    "AvgMarks"
   ]
  },
  {
   "cell_type": "code",
   "execution_count": null,
   "id": "f343ef1d",
   "metadata": {},
   "outputs": [],
   "source": [
    "for x in AvgMarks:\n",
    "    print(\"The avg marks of student \",x, \"is:\",AvgMarks[x])"
   ]
  },
  {
   "cell_type": "code",
   "execution_count": null,
   "id": "de52b559",
   "metadata": {},
   "outputs": [],
   "source": [
    "type(Marks['cs10'])"
   ]
  },
  {
   "cell_type": "code",
   "execution_count": null,
   "id": "ed34526c",
   "metadata": {},
   "outputs": [],
   "source": [
    "type(AvgMarks)"
   ]
  },
  {
   "cell_type": "code",
   "execution_count": null,
   "id": "8a7a00c1",
   "metadata": {},
   "outputs": [],
   "source": []
  }
 ],
 "metadata": {
  "kernelspec": {
   "display_name": "Python 3 (ipykernel)",
   "language": "python",
   "name": "python3"
  },
  "language_info": {
   "codemirror_mode": {
    "name": "ipython",
    "version": 3
   },
   "file_extension": ".py",
   "mimetype": "text/x-python",
   "name": "python",
   "nbconvert_exporter": "python",
   "pygments_lexer": "ipython3",
   "version": "3.9.12"
  }
 },
 "nbformat": 4,
 "nbformat_minor": 5
}
