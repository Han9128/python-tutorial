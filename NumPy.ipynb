{
 "cells": [
  {
   "cell_type": "markdown",
   "id": "56957324",
   "metadata": {},
   "source": [
    "###### Numpy:  It is a Python library that provides a multidimensional array object, various derived objects (such as masked arrays and matrices), and an assortment of routines for fast operations on arrays, including mathematical, logical, shape manipulation, sorting, selecting, I/O, discrete Fourier transforms, basic linear algebra, basic statistical operations, random simulation and much more."
   ]
  },
  {
   "cell_type": "code",
   "execution_count": 5,
   "id": "b10a1064",
   "metadata": {},
   "outputs": [],
   "source": [
    "import numpy as np # np is just an alias"
   ]
  },
  {
   "cell_type": "code",
   "execution_count": 7,
   "id": "4f8b059c",
   "metadata": {},
   "outputs": [
    {
     "data": {
      "text/plain": [
       "(array([12,  3, 43,  4]), numpy.ndarray)"
      ]
     },
     "execution_count": 7,
     "metadata": {},
     "output_type": "execute_result"
    }
   ],
   "source": [
    "# create an array np.array([values])\n",
    "A = np.array([12,3,43,4])\n",
    "A,type(A)"
   ]
  },
  {
   "cell_type": "code",
   "execution_count": 3,
   "id": "122bf326",
   "metadata": {},
   "outputs": [
    {
     "data": {
      "text/plain": [
       "numpy.ndarray"
      ]
     },
     "execution_count": 3,
     "metadata": {},
     "output_type": "execute_result"
    }
   ],
   "source": [
    "type(A)"
   ]
  },
  {
   "cell_type": "code",
   "execution_count": 8,
   "id": "19b3da20",
   "metadata": {},
   "outputs": [
    {
     "data": {
      "text/plain": [
       "dtype('int32')"
      ]
     },
     "execution_count": 8,
     "metadata": {},
     "output_type": "execute_result"
    }
   ],
   "source": [
    "A.dtype"
   ]
  },
  {
   "cell_type": "code",
   "execution_count": 9,
   "id": "9bc4f3c1",
   "metadata": {},
   "outputs": [],
   "source": [
    "# Create a float dtype numpy array\n",
    "B = np.array([1,3,5,3,2],dtype='float16')"
   ]
  },
  {
   "cell_type": "code",
   "execution_count": 10,
   "id": "a6664e4f",
   "metadata": {},
   "outputs": [
    {
     "data": {
      "text/plain": [
       "array([1., 3., 5., 3., 2.], dtype=float16)"
      ]
     },
     "execution_count": 10,
     "metadata": {},
     "output_type": "execute_result"
    }
   ],
   "source": [
    "B"
   ]
  },
  {
   "cell_type": "code",
   "execution_count": 7,
   "id": "d1da48d6",
   "metadata": {},
   "outputs": [
    {
     "data": {
      "text/plain": [
       "dtype('float16')"
      ]
     },
     "execution_count": 7,
     "metadata": {},
     "output_type": "execute_result"
    }
   ],
   "source": [
    "B.dtype"
   ]
  },
  {
   "cell_type": "code",
   "execution_count": 11,
   "id": "0efcf1d9",
   "metadata": {},
   "outputs": [
    {
     "data": {
      "text/plain": [
       "array([2, 4, 2, 1])"
      ]
     },
     "execution_count": 11,
     "metadata": {},
     "output_type": "execute_result"
    }
   ],
   "source": [
    "# We can also create numpy in tuple\n",
    "C=np.array((2,4,2,1))\n",
    "C"
   ]
  },
  {
   "cell_type": "code",
   "execution_count": 12,
   "id": "9df2a5c3",
   "metadata": {},
   "outputs": [
    {
     "data": {
      "text/plain": [
       "numpy.ndarray"
      ]
     },
     "execution_count": 12,
     "metadata": {},
     "output_type": "execute_result"
    }
   ],
   "source": [
    "type(C)"
   ]
  },
  {
   "cell_type": "code",
   "execution_count": 10,
   "id": "8ecfc70a",
   "metadata": {},
   "outputs": [
    {
     "data": {
      "text/plain": [
       "1"
      ]
     },
     "execution_count": 10,
     "metadata": {},
     "output_type": "execute_result"
    }
   ],
   "source": [
    "# Check dimension of numpy array\n",
    "A.ndim"
   ]
  },
  {
   "cell_type": "code",
   "execution_count": 11,
   "id": "0df202ec",
   "metadata": {},
   "outputs": [
    {
     "data": {
      "text/plain": [
       "1"
      ]
     },
     "execution_count": 11,
     "metadata": {},
     "output_type": "execute_result"
    }
   ],
   "source": [
    "D=np.array([1])n #python number of square brackets tell you number of the dimension.\n",
    "D.ndim"
   ]
  },
  {
   "cell_type": "code",
   "execution_count": 12,
   "id": "ee91b895",
   "metadata": {},
   "outputs": [
    {
     "data": {
      "text/plain": [
       "0"
      ]
     },
     "execution_count": 12,
     "metadata": {},
     "output_type": "execute_result"
    }
   ],
   "source": [
    "#Create 0 dimensional array\n",
    "M=np.array((1))\n",
    "M.ndim"
   ]
  },
  {
   "cell_type": "code",
   "execution_count": 13,
   "id": "244f7af8",
   "metadata": {},
   "outputs": [
    {
     "data": {
      "text/plain": [
       "array([[ 1,  2,  4],\n",
       "       [53, 23,  5]])"
      ]
     },
     "execution_count": 13,
     "metadata": {},
     "output_type": "execute_result"
    }
   ],
   "source": [
    "# Create 2 dimensional array\n",
    "Matrix = np.array([[1,2,4],[53,23,5]])\n",
    "Matrix"
   ]
  },
  {
   "cell_type": "code",
   "execution_count": 14,
   "id": "5caea986",
   "metadata": {},
   "outputs": [
    {
     "data": {
      "text/plain": [
       "2"
      ]
     },
     "execution_count": 14,
     "metadata": {},
     "output_type": "execute_result"
    }
   ],
   "source": [
    "Matrix.ndim"
   ]
  },
  {
   "cell_type": "code",
   "execution_count": 15,
   "id": "db7c2320",
   "metadata": {},
   "outputs": [
    {
     "data": {
      "text/plain": [
       "4"
      ]
     },
     "execution_count": 15,
     "metadata": {},
     "output_type": "execute_result"
    }
   ],
   "source": [
    "#Access 4 from the matrix\n",
    "Matrix[0,2]"
   ]
  },
  {
   "cell_type": "code",
   "execution_count": 16,
   "id": "5e9215be",
   "metadata": {},
   "outputs": [
    {
     "data": {
      "text/plain": [
       "5"
      ]
     },
     "execution_count": 16,
     "metadata": {},
     "output_type": "execute_result"
    }
   ],
   "source": [
    "# Access 5 from the matrix\n",
    "Matrix[1,-1]"
   ]
  },
  {
   "cell_type": "code",
   "execution_count": 17,
   "id": "acd0adea",
   "metadata": {},
   "outputs": [
    {
     "data": {
      "text/plain": [
       "array([[[ 42,  43,  53],\n",
       "        [ 53,  31,  19]],\n",
       "\n",
       "       [[-42, -43, -53],\n",
       "        [-53, -31, -19]]])"
      ]
     },
     "execution_count": 17,
     "metadata": {},
     "output_type": "execute_result"
    }
   ],
   "source": [
    "# Create 3 dimensional array\n",
    "ThreeDimArr=np.array([[[42, 43,53],[53,31,19]],[[-42, -43,-53],[-53,-31,-19]]])\n",
    "ThreeDimArr"
   ]
  },
  {
   "cell_type": "code",
   "execution_count": 18,
   "id": "bc843d66",
   "metadata": {},
   "outputs": [
    {
     "data": {
      "text/plain": [
       "3"
      ]
     },
     "execution_count": 18,
     "metadata": {},
     "output_type": "execute_result"
    }
   ],
   "source": [
    "ThreeDimArr.ndim"
   ]
  },
  {
   "cell_type": "code",
   "execution_count": 19,
   "id": "4efcef3e",
   "metadata": {},
   "outputs": [
    {
     "data": {
      "text/plain": [
       "53"
      ]
     },
     "execution_count": 19,
     "metadata": {},
     "output_type": "execute_result"
    }
   ],
   "source": [
    "#Access 53 from the ThreeDimArr\n",
    "ThreeDimArr[0,0,-1]"
   ]
  },
  {
   "cell_type": "code",
   "execution_count": 20,
   "id": "7a7eb386",
   "metadata": {},
   "outputs": [
    {
     "data": {
      "text/plain": [
       "-31"
      ]
     },
     "execution_count": 20,
     "metadata": {},
     "output_type": "execute_result"
    }
   ],
   "source": [
    "#Access -31 from the ThreeDimArr\n",
    "ThreeDimArr[1,1,1]"
   ]
  },
  {
   "cell_type": "code",
   "execution_count": 21,
   "id": "b001f92b",
   "metadata": {},
   "outputs": [
    {
     "data": {
      "text/plain": [
       "array([[[42, 43]]])"
      ]
     },
     "execution_count": 21,
     "metadata": {},
     "output_type": "execute_result"
    }
   ],
   "source": [
    "# print 42 , 43 only\n",
    "ThreeDimArr[0:1,0:1,0:2]"
   ]
  },
  {
   "cell_type": "code",
   "execution_count": 22,
   "id": "a681c467",
   "metadata": {},
   "outputs": [
    {
     "data": {
      "text/plain": [
       "(2, 2, 3)"
      ]
     },
     "execution_count": 22,
     "metadata": {},
     "output_type": "execute_result"
    }
   ],
   "source": [
    "ThreeDimArr.shape"
   ]
  },
  {
   "cell_type": "code",
   "execution_count": 23,
   "id": "3e145e35",
   "metadata": {},
   "outputs": [
    {
     "data": {
      "text/plain": [
       "2"
      ]
     },
     "execution_count": 23,
     "metadata": {},
     "output_type": "execute_result"
    }
   ],
   "source": [
    "ThreeDimArr.shape[0] # Give the dimension of Oth index"
   ]
  },
  {
   "cell_type": "code",
   "execution_count": 24,
   "id": "dac3c0ae",
   "metadata": {},
   "outputs": [
    {
     "data": {
      "text/plain": [
       "2"
      ]
     },
     "execution_count": 24,
     "metadata": {},
     "output_type": "execute_result"
    }
   ],
   "source": [
    "ThreeDimArr.shape[1] # Give the dimension of 1st index"
   ]
  },
  {
   "cell_type": "code",
   "execution_count": 25,
   "id": "976ad5ac",
   "metadata": {},
   "outputs": [
    {
     "data": {
      "text/plain": [
       "3"
      ]
     },
     "execution_count": 25,
     "metadata": {},
     "output_type": "execute_result"
    }
   ],
   "source": [
    "ThreeDimArr.shape[2] # Give the dimension of 2nd index"
   ]
  },
  {
   "cell_type": "code",
   "execution_count": 26,
   "id": "d2ef20e4",
   "metadata": {},
   "outputs": [
    {
     "data": {
      "text/plain": [
       "12"
      ]
     },
     "execution_count": 26,
     "metadata": {},
     "output_type": "execute_result"
    }
   ],
   "source": [
    "ThreeDimArr.size # Gives the number of elements in array"
   ]
  },
  {
   "cell_type": "code",
   "execution_count": 27,
   "id": "a3a73da4",
   "metadata": {},
   "outputs": [
    {
     "data": {
      "text/plain": [
       "48"
      ]
     },
     "execution_count": 27,
     "metadata": {},
     "output_type": "execute_result"
    }
   ],
   "source": [
    "ThreeDimArr.nbytes"
   ]
  },
  {
   "cell_type": "code",
   "execution_count": 28,
   "id": "2d808ef8",
   "metadata": {},
   "outputs": [
    {
     "data": {
      "text/plain": [
       "array([[[[ 42. ,  43. ,  53. ],\n",
       "         [ 53. ,  31. ,  19. ]],\n",
       "\n",
       "        [[-42. , -43. , -53. ],\n",
       "         [-53. , -31. , -19. ]]],\n",
       "\n",
       "\n",
       "       [[[  4.2,   4.3,   5.3],\n",
       "         [  5.3,   3.1,   1.9]],\n",
       "\n",
       "        [[ -4.2,  -4.3,  -5.3],\n",
       "         [ -5.3,  -3.1,  -1.9]]]])"
      ]
     },
     "execution_count": 28,
     "metadata": {},
     "output_type": "execute_result"
    }
   ],
   "source": [
    "# create 4 dimensional array\n",
    "FourDimArr=np.array([[[[42, 43,53],[53,31,19]],[[-42, -43,-53],[-53,-31,-19]]],\n",
    "                   [[[4.2, 4.3,5.3],[5.3,3.1,1.9]],[[-4.2, -4.3,-5.3],[-5.3,-3.1,-1.9]]]])\n",
    "FourDimArr"
   ]
  },
  {
   "cell_type": "code",
   "execution_count": 29,
   "id": "4c773234",
   "metadata": {},
   "outputs": [
    {
     "data": {
      "text/plain": [
       "4"
      ]
     },
     "execution_count": 29,
     "metadata": {},
     "output_type": "execute_result"
    }
   ],
   "source": [
    "FourDimArr.ndim"
   ]
  },
  {
   "cell_type": "code",
   "execution_count": 30,
   "id": "a9d80abf",
   "metadata": {},
   "outputs": [
    {
     "data": {
      "text/plain": [
       "-1.9"
      ]
     },
     "execution_count": 30,
     "metadata": {},
     "output_type": "execute_result"
    }
   ],
   "source": [
    "#Access -1.9 form the ForDimArr\n",
    "FourDimArr[-1,-1,-1,-1]"
   ]
  },
  {
   "cell_type": "code",
   "execution_count": 31,
   "id": "d18e8866",
   "metadata": {},
   "outputs": [
    {
     "data": {
      "text/plain": [
       "(2, 2, 2, 3)"
      ]
     },
     "execution_count": 31,
     "metadata": {},
     "output_type": "execute_result"
    }
   ],
   "source": [
    "FourDimArr.shape"
   ]
  },
  {
   "cell_type": "code",
   "execution_count": 32,
   "id": "a1bc1cff",
   "metadata": {},
   "outputs": [
    {
     "data": {
      "text/plain": [
       "3.1"
      ]
     },
     "execution_count": 32,
     "metadata": {},
     "output_type": "execute_result"
    }
   ],
   "source": [
    "#Access 3.1 from the FourDimArr\n",
    "FourDimArr[1,0,1,1]"
   ]
  },
  {
   "cell_type": "code",
   "execution_count": 33,
   "id": "48197fea",
   "metadata": {},
   "outputs": [
    {
     "data": {
      "text/plain": [
       "array([ 0,  1,  2,  3,  4,  5,  6,  7,  8,  9, 10, 11, 12, 13, 14, 15, 16,\n",
       "       17, 18, 19, 20, 21, 22, 23, 24, 25, 26, 27, 28, 29, 30, 31, 32, 33,\n",
       "       34, 35, 36, 37, 38, 39, 40, 41, 42, 43, 44, 45, 46, 47, 48, 49, 50,\n",
       "       51, 52, 53, 54, 55, 56, 57, 58, 59, 60, 61, 62, 63, 64, 65, 66, 67,\n",
       "       68, 69, 70, 71, 72, 73, 74, 75, 76, 77, 78, 79, 80, 81, 82, 83, 84,\n",
       "       85, 86, 87, 88, 89, 90, 91, 92, 93, 94, 95, 96, 97, 98, 99])"
      ]
     },
     "execution_count": 33,
     "metadata": {},
     "output_type": "execute_result"
    }
   ],
   "source": [
    "# Create an array starting from 0 and max element is not more than 100\n",
    "A = np.arange(100)\n",
    "A"
   ]
  },
  {
   "cell_type": "code",
   "execution_count": 34,
   "id": "14a17991",
   "metadata": {},
   "outputs": [
    {
     "data": {
      "text/plain": [
       "array([20, 21, 22, 23, 24, 25, 26, 27, 28, 29, 30, 31, 32, 33, 34, 35, 36,\n",
       "       37, 38, 39, 40, 41, 42, 43, 44, 45, 46, 47, 48, 49, 50, 51, 52, 53,\n",
       "       54, 55, 56, 57, 58, 59, 60, 61, 62, 63, 64, 65, 66, 67, 68, 69, 70,\n",
       "       71, 72, 73, 74, 75, 76, 77, 78, 79, 80, 81, 82, 83, 84, 85, 86, 87,\n",
       "       88, 89, 90, 91, 92, 93, 94, 95, 96, 97, 98, 99])"
      ]
     },
     "execution_count": 34,
     "metadata": {},
     "output_type": "execute_result"
    }
   ],
   "source": [
    "# Create an array starting from 20 and max element is not more than 100\n",
    "B=np.arange(20,100)\n",
    "B"
   ]
  },
  {
   "cell_type": "code",
   "execution_count": 35,
   "id": "c1d282d7",
   "metadata": {},
   "outputs": [
    {
     "data": {
      "text/plain": [
       "array([20, 23, 26, 29, 32, 35, 38, 41, 44, 47, 50, 53, 56, 59, 62, 65, 68,\n",
       "       71, 74, 77, 80, 83, 86, 89, 92, 95, 98])"
      ]
     },
     "execution_count": 35,
     "metadata": {},
     "output_type": "execute_result"
    }
   ],
   "source": [
    "# Create an arrray starting from 20, max element is not more than 100 and successive elements are gap 3\n",
    "V = np.arange(20,100,3) # Notice that this is much more like for in range(0,10,2)\n",
    "V"
   ]
  },
  {
   "cell_type": "code",
   "execution_count": 36,
   "id": "85213f88",
   "metadata": {},
   "outputs": [
    {
     "name": "stdout",
     "output_type": "stream",
     "text": [
      "range(0, 10)\n"
     ]
    }
   ],
   "source": [
    "print(range(10))"
   ]
  },
  {
   "cell_type": "code",
   "execution_count": 37,
   "id": "cc30f765",
   "metadata": {},
   "outputs": [
    {
     "name": "stdout",
     "output_type": "stream",
     "text": [
      "[1, 3, 5, 7, 9, 11, 13, 15, 17, 19]\n"
     ]
    }
   ],
   "source": [
    "print(list(range(1,20,2)))"
   ]
  },
  {
   "cell_type": "code",
   "execution_count": 38,
   "id": "4376d211",
   "metadata": {},
   "outputs": [],
   "source": [
    "# Create a random array of random order\n",
    "A=np.random.permutation(10)"
   ]
  },
  {
   "cell_type": "code",
   "execution_count": 39,
   "id": "4a52f5c3",
   "metadata": {},
   "outputs": [
    {
     "data": {
      "text/plain": [
       "array([9, 1, 2, 0, 6, 8, 5, 7, 3, 4])"
      ]
     },
     "execution_count": 39,
     "metadata": {},
     "output_type": "execute_result"
    }
   ],
   "source": [
    "A"
   ]
  },
  {
   "cell_type": "code",
   "execution_count": 40,
   "id": "653b4cd5",
   "metadata": {},
   "outputs": [
    {
     "data": {
      "text/plain": [
       "array([72, 22,  6, 12, 92, 32, 26, 10, 48, 58, 64, 38, 28, 40, 70, 88, 90,\n",
       "       24,  4, 54, 78, 60, 46, 84, 94, 18, 20, 76, 82, 30, 50, 56, 36, 86,\n",
       "       98, 74, 34, 66, 44,  0,  8, 68, 42, 14, 52, 16, 96,  2, 80, 62])"
      ]
     },
     "execution_count": 40,
     "metadata": {},
     "output_type": "execute_result"
    }
   ],
   "source": [
    "A = np.random.permutation(np.arange(0,100,2))\n",
    "A"
   ]
  },
  {
   "cell_type": "code",
   "execution_count": 41,
   "id": "41f7fa94",
   "metadata": {},
   "outputs": [
    {
     "name": "stdout",
     "output_type": "stream",
     "text": [
      "3 <class 'int'>\n"
     ]
    }
   ],
   "source": [
    "# Create a random integer\n",
    "i = np.random.randint(5)\n",
    "print(i,type(i))"
   ]
  },
  {
   "cell_type": "code",
   "execution_count": 14,
   "id": "0f1eeb5a",
   "metadata": {},
   "outputs": [
    {
     "data": {
      "text/plain": [
       "array([64, 58, 96, 89, 95, 57, 62, 82, 55, 78, 70, 66, 73, 79, 51, 74, 87,\n",
       "       91, 77, 73, 69, 66, 84, 72, 67, 76, 58, 51, 51, 88])"
      ]
     },
     "execution_count": 14,
     "metadata": {},
     "output_type": "execute_result"
    }
   ],
   "source": [
    "# Create a random array of random integer\n",
    "arr=np.random.randint(50,100,30)\n",
    "arr"
   ]
  },
  {
   "cell_type": "code",
   "execution_count": 43,
   "id": "297e2029",
   "metadata": {},
   "outputs": [
    {
     "data": {
      "text/plain": [
       "1"
      ]
     },
     "execution_count": 43,
     "metadata": {},
     "output_type": "execute_result"
    }
   ],
   "source": [
    "arr.ndim"
   ]
  },
  {
   "cell_type": "code",
   "execution_count": 15,
   "id": "1fb78e09",
   "metadata": {},
   "outputs": [
    {
     "data": {
      "text/plain": [
       "30"
      ]
     },
     "execution_count": 15,
     "metadata": {},
     "output_type": "execute_result"
    }
   ],
   "source": [
    "arr.size"
   ]
  },
  {
   "cell_type": "code",
   "execution_count": 16,
   "id": "2853d1a3",
   "metadata": {},
   "outputs": [
    {
     "data": {
      "text/plain": [
       "numpy.ndarray"
      ]
     },
     "execution_count": 16,
     "metadata": {},
     "output_type": "execute_result"
    }
   ],
   "source": [
    "type(arr)"
   ]
  },
  {
   "cell_type": "code",
   "execution_count": 17,
   "id": "d09c67f0",
   "metadata": {},
   "outputs": [
    {
     "data": {
      "text/plain": [
       "array([0.092903  , 0.36463189, 0.42345197, ..., 0.24960173, 0.18618148,\n",
       "       0.39069798])"
      ]
     },
     "execution_count": 17,
     "metadata": {},
     "output_type": "execute_result"
    }
   ],
   "source": [
    "# Create a random array uniformly distributed\n",
    "unifArr=np.random.rand(100000)\n",
    "unifArr"
   ]
  },
  {
   "cell_type": "code",
   "execution_count": 19,
   "id": "4939ef1a",
   "metadata": {},
   "outputs": [
    {
     "data": {
      "text/plain": [
       "(array([2030., 2011., 2076., 1979., 2007., 2024., 2036., 2051., 1904.,\n",
       "        2071., 1960., 1989., 2004., 2076., 1937., 1887., 1980., 1976.,\n",
       "        2009., 1968., 1984., 1969., 2089., 1998., 1996., 1968., 2041.,\n",
       "        1966., 2077., 1974., 2000., 2021., 1985., 1981., 2037., 2061.,\n",
       "        1980., 1986., 2041., 1941., 1986., 1909., 1968., 1994., 2004.,\n",
       "        2037., 2027., 2018., 2005., 1982.]),\n",
       " array([5.31658030e-07, 2.00000504e-02, 3.99995691e-02, 5.99990879e-02,\n",
       "        7.99986066e-02, 9.99981254e-02, 1.19997644e-01, 1.39997163e-01,\n",
       "        1.59996682e-01, 1.79996200e-01, 1.99995719e-01, 2.19995238e-01,\n",
       "        2.39994757e-01, 2.59994275e-01, 2.79993794e-01, 2.99993313e-01,\n",
       "        3.19992832e-01, 3.39992350e-01, 3.59991869e-01, 3.79991388e-01,\n",
       "        3.99990907e-01, 4.19990425e-01, 4.39989944e-01, 4.59989463e-01,\n",
       "        4.79988982e-01, 4.99988500e-01, 5.19988019e-01, 5.39987538e-01,\n",
       "        5.59987057e-01, 5.79986575e-01, 5.99986094e-01, 6.19985613e-01,\n",
       "        6.39985132e-01, 6.59984650e-01, 6.79984169e-01, 6.99983688e-01,\n",
       "        7.19983207e-01, 7.39982725e-01, 7.59982244e-01, 7.79981763e-01,\n",
       "        7.99981281e-01, 8.19980800e-01, 8.39980319e-01, 8.59979838e-01,\n",
       "        8.79979356e-01, 8.99978875e-01, 9.19978394e-01, 9.39977913e-01,\n",
       "        9.59977431e-01, 9.79976950e-01, 9.99976469e-01]),\n",
       " <BarContainer object of 50 artists>)"
      ]
     },
     "execution_count": 19,
     "metadata": {},
     "output_type": "execute_result"
    },
    {
     "data": {
      "image/png": "[encoded data removed]",
      "text/plain": [
       "<Figure size 432x288 with 1 Axes>"
      ]
     },
     "metadata": {
      "needs_background": "light"
     },
     "output_type": "display_data"
    }
   ],
   "source": [
    "import matplotlib.pyplot as plt\n",
    "plt.hist(unifArr,bins=50)"
   ]
  },
  {
   "cell_type": "code",
   "execution_count": 20,
   "id": "d2c402e5",
   "metadata": {},
   "outputs": [],
   "source": [
    "# Create a random array normally distributed\n",
    "normArr=np.random.randn(10000)"
   ]
  },
  {
   "cell_type": "code",
   "execution_count": 21,
   "id": "e2c6a337",
   "metadata": {},
   "outputs": [
    {
     "data": {
      "text/plain": [
       "array([-0.76577479, -2.18145396,  0.29354681, ...,  0.8709993 ,\n",
       "       -0.0820231 ,  0.29593664])"
      ]
     },
     "execution_count": 21,
     "metadata": {},
     "output_type": "execute_result"
    }
   ],
   "source": [
    "normArr"
   ]
  },
  {
   "cell_type": "code",
   "execution_count": 50,
   "id": "116ca852",
   "metadata": {},
   "outputs": [
    {
     "data": {
      "text/plain": [
       "(array([  2.,   0.,   0.,   0.,   1.,   0.,   2.,   3.,   2.,   0.,   0.,\n",
       "          2.,   2.,   1.,   1.,   0.,   3.,   4.,   3.,   3.,   5.,   5.,\n",
       "          2.,   4.,   8.,   3.,   9.,   6.,   5.,   7.,   4.,  10.,  11.,\n",
       "         12.,  13.,  21.,  16.,  18.,  23.,  17.,  18.,  31.,  23.,  26.,\n",
       "         22.,  35.,  27.,  25.,  35.,  38.,  30.,  40.,  39.,  53.,  47.,\n",
       "         49.,  53.,  47.,  52.,  66.,  67.,  80.,  82.,  75.,  85.,  73.,\n",
       "         82.,  93., 115.,  95., 108.,  95., 128., 123., 107., 143., 149.,\n",
       "        115., 132., 133., 124., 136., 151., 149., 147., 161., 130., 134.,\n",
       "        155., 137., 169., 146., 149., 160., 156., 173., 148., 143., 175.,\n",
       "        145., 148., 141., 126., 155., 134., 143., 125., 121., 135., 109.,\n",
       "        130., 119., 108., 101., 116., 107., 115.,  98.,  94., 110.,  81.,\n",
       "         86.,  84.,  76.,  87.,  57.,  82.,  65.,  60.,  47.,  65.,  45.,\n",
       "         47.,  53.,  39.,  38.,  38.,  32.,  37.,  26.,  34.,  31.,  30.,\n",
       "         19.,  19.,  18.,  22.,  18.,  22.,  18.,   5.,  10.,   9.,  10.,\n",
       "         11.,  12.,   7.,   8.,   8.,   3.,   6.,   3.,   3.,   7.,   3.,\n",
       "          3.,   4.,   2.,   0.,   1.,   4.,   2.,   1.,   1.,   0.,   1.,\n",
       "          3.,   1.,   0.,   1.,   0.,   2.,   0.,   2.,   0.,   1.,   0.,\n",
       "          0.,   0.,   0.,   0.,   0.,   1.,   0.,   0.,   0.,   0.,   0.,\n",
       "          1.,   1.]),\n",
       " array([-3.57842932, -3.54006738, -3.50170543, -3.46334348, -3.42498154,\n",
       "        -3.38661959, -3.34825764, -3.3098957 , -3.27153375, -3.2331718 ,\n",
       "        -3.19480986, -3.15644791, -3.11808596, -3.07972402, -3.04136207,\n",
       "        -3.00300012, -2.96463818, -2.92627623, -2.88791428, -2.84955234,\n",
       "        -2.81119039, -2.77282844, -2.7344665 , -2.69610455, -2.6577426 ,\n",
       "        -2.61938065, -2.58101871, -2.54265676, -2.50429481, -2.46593287,\n",
       "        -2.42757092, -2.38920897, -2.35084703, -2.31248508, -2.27412313,\n",
       "        -2.23576119, -2.19739924, -2.15903729, -2.12067535, -2.0823134 ,\n",
       "        -2.04395145, -2.00558951, -1.96722756, -1.92886561, -1.89050367,\n",
       "        -1.85214172, -1.81377977, -1.77541782, -1.73705588, -1.69869393,\n",
       "        -1.66033198, -1.62197004, -1.58360809, -1.54524614, -1.5068842 ,\n",
       "        -1.46852225, -1.4301603 , -1.39179836, -1.35343641, -1.31507446,\n",
       "        -1.27671252, -1.23835057, -1.19998862, -1.16162668, -1.12326473,\n",
       "        -1.08490278, -1.04654084, -1.00817889, -0.96981694, -0.931455  ,\n",
       "        -0.89309305, -0.8547311 , -0.81636915, -0.77800721, -0.73964526,\n",
       "        -0.70128331, -0.66292137, -0.62455942, -0.58619747, -0.54783553,\n",
       "        -0.50947358, -0.47111163, -0.43274969, -0.39438774, -0.35602579,\n",
       "        -0.31766385, -0.2793019 , -0.24093995, -0.20257801, -0.16421606,\n",
       "        -0.12585411, -0.08749217, -0.04913022, -0.01076827,  0.02759368,\n",
       "         0.06595562,  0.10431757,  0.14267952,  0.18104146,  0.21940341,\n",
       "         0.25776536,  0.2961273 ,  0.33448925,  0.3728512 ,  0.41121314,\n",
       "         0.44957509,  0.48793704,  0.52629898,  0.56466093,  0.60302288,\n",
       "         0.64138482,  0.67974677,  0.71810872,  0.75647066,  0.79483261,\n",
       "         0.83319456,  0.8715565 ,  0.90991845,  0.9482804 ,  0.98664235,\n",
       "         1.02500429,  1.06336624,  1.10172819,  1.14009013,  1.17845208,\n",
       "         1.21681403,  1.25517597,  1.29353792,  1.33189987,  1.37026181,\n",
       "         1.40862376,  1.44698571,  1.48534765,  1.5237096 ,  1.56207155,\n",
       "         1.60043349,  1.63879544,  1.67715739,  1.71551933,  1.75388128,\n",
       "         1.79224323,  1.83060518,  1.86896712,  1.90732907,  1.94569102,\n",
       "         1.98405296,  2.02241491,  2.06077686,  2.0991388 ,  2.13750075,\n",
       "         2.1758627 ,  2.21422464,  2.25258659,  2.29094854,  2.32931048,\n",
       "         2.36767243,  2.40603438,  2.44439632,  2.48275827,  2.52112022,\n",
       "         2.55948216,  2.59784411,  2.63620606,  2.674568  ,  2.71292995,\n",
       "         2.7512919 ,  2.78965385,  2.82801579,  2.86637774,  2.90473969,\n",
       "         2.94310163,  2.98146358,  3.01982553,  3.05818747,  3.09654942,\n",
       "         3.13491137,  3.17327331,  3.21163526,  3.24999721,  3.28835915,\n",
       "         3.3267211 ,  3.36508305,  3.40344499,  3.44180694,  3.48016889,\n",
       "         3.51853083,  3.55689278,  3.59525473,  3.63361668,  3.67197862,\n",
       "         3.71034057,  3.74870252,  3.78706446,  3.82542641,  3.86378836,\n",
       "         3.9021503 ,  3.94051225,  3.9788742 ,  4.01723614,  4.05559809,\n",
       "         4.09396004]),\n",
       " <BarContainer object of 200 artists>)"
      ]
     },
     "execution_count": 50,
     "metadata": {},
     "output_type": "execute_result"
    },
    {
     "data": {
      "image/png": "[encoded data removed]",
      "text/plain": [
       "<Figure size 432x288 with 1 Axes>"
      ]
     },
     "metadata": {
      "needs_background": "light"
     },
     "output_type": "display_data"
    }
   ],
   "source": [
    "plt.hist(normArr,bins=200)"
   ]
  },
  {
   "cell_type": "code",
   "execution_count": 51,
   "id": "d8436fd1",
   "metadata": {},
   "outputs": [
    {
     "name": "stdout",
     "output_type": "stream",
     "text": [
      "1 1\n"
     ]
    }
   ],
   "source": [
    "print(unifArr.ndim,normArr.ndim)"
   ]
  },
  {
   "cell_type": "code",
   "execution_count": 52,
   "id": "087cf98f",
   "metadata": {},
   "outputs": [
    {
     "data": {
      "text/plain": [
       "array([[0.19022621, 0.39996091, 0.42935223],\n",
       "       [0.85239073, 0.58299214, 0.19957036]])"
      ]
     },
     "execution_count": 52,
     "metadata": {},
     "output_type": "execute_result"
    }
   ],
   "source": [
    "# Create a 2 dimensional array uniformally distributed\n",
    "M = np.random.rand(2,3)\n",
    "M"
   ]
  },
  {
   "cell_type": "code",
   "execution_count": 53,
   "id": "41228ac1",
   "metadata": {},
   "outputs": [
    {
     "data": {
      "text/plain": [
       "2"
      ]
     },
     "execution_count": 53,
     "metadata": {},
     "output_type": "execute_result"
    }
   ],
   "source": [
    "M.ndim"
   ]
  },
  {
   "cell_type": "code",
   "execution_count": 54,
   "id": "84b54be9",
   "metadata": {},
   "outputs": [
    {
     "data": {
      "text/plain": [
       "(array([[1., 0., 0., 0., 0., 0., 0., 0., 0., 0., 0., 0., 0., 0., 0., 0.,\n",
       "         0., 0., 0., 1.],\n",
       "        [0., 0., 0., 0., 0., 0., 1., 0., 0., 0., 0., 1., 0., 0., 0., 0.,\n",
       "         0., 0., 0., 0.],\n",
       "        [1., 0., 0., 0., 0., 0., 0., 1., 0., 0., 0., 0., 0., 0., 0., 0.,\n",
       "         0., 0., 0., 0.]]),\n",
       " array([0.19022621, 0.22333444, 0.25644267, 0.28955089, 0.32265912,\n",
       "        0.35576734, 0.38887557, 0.42198379, 0.45509202, 0.48820025,\n",
       "        0.52130847, 0.5544167 , 0.58752492, 0.62063315, 0.65374137,\n",
       "        0.6868496 , 0.71995783, 0.75306605, 0.78617428, 0.8192825 ,\n",
       "        0.85239073]),\n",
       " <a list of 3 BarContainer objects>)"
      ]
     },
     "execution_count": 54,
     "metadata": {},
     "output_type": "execute_result"
    },
    {
     "data": {
      "image/png": "[encoded data removed]",
      "text/plain": [
       "<Figure size 432x288 with 1 Axes>"
      ]
     },
     "metadata": {
      "needs_background": "light"
     },
     "output_type": "display_data"
    }
   ],
   "source": [
    "plt.hist(M,bins=20)"
   ]
  },
  {
   "cell_type": "code",
   "execution_count": 55,
   "id": "447688f1",
   "metadata": {},
   "outputs": [
    {
     "data": {
      "text/plain": [
       "array([[[[0.36789517, 0.88216153, 0.73714841],\n",
       "         [0.29166251, 0.01123281, 0.83637871],\n",
       "         [0.96041483, 0.54954636, 0.8551525 ],\n",
       "         [0.18441826, 0.62554692, 0.64705669],\n",
       "         [0.51532648, 0.08219756, 0.07055928]],\n",
       "\n",
       "        [[0.59374957, 0.26462451, 0.47227604],\n",
       "         [0.66768342, 0.92967929, 0.49559225],\n",
       "         [0.09235291, 0.94365289, 0.71983233],\n",
       "         [0.75163423, 0.43248082, 0.08383137],\n",
       "         [0.74839403, 0.19872531, 0.71026298]],\n",
       "\n",
       "        [[0.08024085, 0.68927239, 0.50454502],\n",
       "         [0.6727518 , 0.46569759, 0.45732512],\n",
       "         [0.67045182, 0.12011427, 0.07401416],\n",
       "         [0.65456486, 0.16489051, 0.67338189],\n",
       "         [0.06866217, 0.2553476 , 0.15012636]]],\n",
       "\n",
       "\n",
       "       [[[0.8941179 , 0.92767223, 0.09565037],\n",
       "         [0.35857146, 0.90556396, 0.30231149],\n",
       "         [0.98481607, 0.19016329, 0.0508708 ],\n",
       "         [0.75327425, 0.45343237, 0.57409785],\n",
       "         [0.4621176 , 0.79500657, 0.56407456]],\n",
       "\n",
       "        [[0.43647113, 0.79998434, 0.64030758],\n",
       "         [0.52235928, 0.17214058, 0.34466724],\n",
       "         [0.96687494, 0.60744971, 0.12554165],\n",
       "         [0.96767484, 0.91442788, 0.4568704 ],\n",
       "         [0.62870433, 0.78011588, 0.9776005 ]],\n",
       "\n",
       "        [[0.44106513, 0.06507297, 0.17929618],\n",
       "         [0.04969685, 0.42755259, 0.94561749],\n",
       "         [0.21036406, 0.90877583, 0.5743428 ],\n",
       "         [0.44497732, 0.61764059, 0.68072112],\n",
       "         [0.40993544, 0.74907091, 0.15163266]]]])"
      ]
     },
     "execution_count": 55,
     "metadata": {},
     "output_type": "execute_result"
    }
   ],
   "source": [
    "# Create a 4 dimensional array uniformally distributed\n",
    "X = np.random.rand(2,3,5,3)\n",
    "X"
   ]
  },
  {
   "cell_type": "code",
   "execution_count": 56,
   "id": "0ae72c64",
   "metadata": {},
   "outputs": [
    {
     "data": {
      "text/plain": [
       "array([0.59374957, 0.26462451, 0.47227604])"
      ]
     },
     "execution_count": 56,
     "metadata": {},
     "output_type": "execute_result"
    }
   ],
   "source": [
    "X[0,1,0,:]"
   ]
  },
  {
   "cell_type": "code",
   "execution_count": 57,
   "id": "8ad67e53",
   "metadata": {},
   "outputs": [
    {
     "data": {
      "text/plain": [
       "array([[[-0.22024051, -0.17757398, -0.74591493,  0.10915831,\n",
       "         -0.88820913],\n",
       "        [-1.40912053, -0.58656283, -0.90290599, -0.45707335,\n",
       "          0.52927148],\n",
       "        [-0.69901295, -1.6567599 , -0.15650976,  0.70399707,\n",
       "         -1.01302493]],\n",
       "\n",
       "       [[-1.05509801, -0.09072995, -0.29508883,  1.76955186,\n",
       "         -1.32381819],\n",
       "        [ 0.04794676,  0.52020235,  0.31026719,  0.55318898,\n",
       "          0.41541311],\n",
       "        [-0.54623728, -1.44078042, -0.61613369,  1.08487236,\n",
       "          0.69024215]]])"
      ]
     },
     "execution_count": 57,
     "metadata": {},
     "output_type": "execute_result"
    }
   ],
   "source": [
    "# Create a 3 dimensional array normally distributed\n",
    "Y = np.random.randn(2,3,5)\n",
    "Y"
   ]
  },
  {
   "cell_type": "code",
   "execution_count": 58,
   "id": "e5e0699d",
   "metadata": {},
   "outputs": [
    {
     "data": {
      "text/plain": [
       "3"
      ]
     },
     "execution_count": 58,
     "metadata": {},
     "output_type": "execute_result"
    }
   ],
   "source": [
    "Y.ndim"
   ]
  },
  {
   "cell_type": "code",
   "execution_count": 59,
   "id": "c068f32b",
   "metadata": {},
   "outputs": [
    {
     "data": {
      "text/plain": [
       "array([ 0,  1,  2,  3,  4,  5,  6,  7,  8,  9, 10, 11, 12, 13, 14, 15, 16,\n",
       "       17, 18, 19, 20, 21, 22, 23, 24, 25, 26, 27, 28, 29, 30, 31, 32, 33,\n",
       "       34, 35, 36, 37, 38, 39, 40, 41, 42, 43, 44, 45, 46, 47, 48, 49, 50,\n",
       "       51, 52, 53, 54, 55, 56, 57, 58, 59, 60, 61, 62, 63, 64, 65, 66, 67,\n",
       "       68, 69, 70, 71, 72, 73, 74, 75, 76, 77, 78, 79, 80, 81, 82, 83, 84,\n",
       "       85, 86, 87, 88, 89, 90, 91, 92, 93, 94, 95, 96, 97, 98, 99])"
      ]
     },
     "execution_count": 59,
     "metadata": {},
     "output_type": "execute_result"
    }
   ],
   "source": [
    "X = np.arange(100)\n",
    "X"
   ]
  },
  {
   "cell_type": "code",
   "execution_count": 60,
   "id": "2752f4dd",
   "metadata": {},
   "outputs": [
    {
     "data": {
      "text/plain": [
       "array([[ 0,  1,  2,  3,  4,  5,  6,  7,  8,  9],\n",
       "       [10, 11, 12, 13, 14, 15, 16, 17, 18, 19],\n",
       "       [20, 21, 22, 23, 24, 25, 26, 27, 28, 29],\n",
       "       [30, 31, 32, 33, 34, 35, 36, 37, 38, 39],\n",
       "       [40, 41, 42, 43, 44, 45, 46, 47, 48, 49],\n",
       "       [50, 51, 52, 53, 54, 55, 56, 57, 58, 59],\n",
       "       [60, 61, 62, 63, 64, 65, 66, 67, 68, 69],\n",
       "       [70, 71, 72, 73, 74, 75, 76, 77, 78, 79],\n",
       "       [80, 81, 82, 83, 84, 85, 86, 87, 88, 89],\n",
       "       [90, 91, 92, 93, 94, 95, 96, 97, 98, 99]])"
      ]
     },
     "execution_count": 60,
     "metadata": {},
     "output_type": "execute_result"
    }
   ],
   "source": [
    "X.reshape(10,10)"
   ]
  },
  {
   "cell_type": "code",
   "execution_count": 61,
   "id": "7d879f7f",
   "metadata": {},
   "outputs": [
    {
     "data": {
      "text/plain": [
       "array([[[ 0,  1,  2,  3,  4],\n",
       "        [ 5,  6,  7,  8,  9],\n",
       "        [10, 11, 12, 13, 14],\n",
       "        [15, 16, 17, 18, 19],\n",
       "        [20, 21, 22, 23, 24]],\n",
       "\n",
       "       [[25, 26, 27, 28, 29],\n",
       "        [30, 31, 32, 33, 34],\n",
       "        [35, 36, 37, 38, 39],\n",
       "        [40, 41, 42, 43, 44],\n",
       "        [45, 46, 47, 48, 49]],\n",
       "\n",
       "       [[50, 51, 52, 53, 54],\n",
       "        [55, 56, 57, 58, 59],\n",
       "        [60, 61, 62, 63, 64],\n",
       "        [65, 66, 67, 68, 69],\n",
       "        [70, 71, 72, 73, 74]],\n",
       "\n",
       "       [[75, 76, 77, 78, 79],\n",
       "        [80, 81, 82, 83, 84],\n",
       "        [85, 86, 87, 88, 89],\n",
       "        [90, 91, 92, 93, 94],\n",
       "        [95, 96, 97, 98, 99]]])"
      ]
     },
     "execution_count": 61,
     "metadata": {},
     "output_type": "execute_result"
    }
   ],
   "source": [
    "Y = X.reshape(4,5,5)\n",
    "Y"
   ]
  },
  {
   "cell_type": "code",
   "execution_count": 62,
   "id": "65ad4af8",
   "metadata": {},
   "outputs": [
    {
     "data": {
      "text/plain": [
       "1"
      ]
     },
     "execution_count": 62,
     "metadata": {},
     "output_type": "execute_result"
    }
   ],
   "source": [
    "X.ndim"
   ]
  },
  {
   "cell_type": "code",
   "execution_count": 63,
   "id": "b01ee015",
   "metadata": {},
   "outputs": [
    {
     "data": {
      "text/plain": [
       "3"
      ]
     },
     "execution_count": 63,
     "metadata": {},
     "output_type": "execute_result"
    }
   ],
   "source": [
    "Y.ndim"
   ]
  },
  {
   "cell_type": "code",
   "execution_count": 64,
   "id": "eda4b20a",
   "metadata": {},
   "outputs": [
    {
     "data": {
      "text/plain": [
       "array([[0, 0, 0],\n",
       "       [0, 0, 0]], dtype=int32)"
      ]
     },
     "execution_count": 64,
     "metadata": {},
     "output_type": "execute_result"
    }
   ],
   "source": [
    "# creat zeros matrix\n",
    "A=np.zeros((2,3),dtype='i')\n",
    "A"
   ]
  },
  {
   "cell_type": "code",
   "execution_count": 65,
   "id": "f6ec1862",
   "metadata": {},
   "outputs": [
    {
     "data": {
      "text/plain": [
       "array([[[1, 1, 1, 1, 1, 1],\n",
       "        [1, 1, 1, 1, 1, 1],\n",
       "        [1, 1, 1, 1, 1, 1],\n",
       "        [1, 1, 1, 1, 1, 1],\n",
       "        [1, 1, 1, 1, 1, 1]],\n",
       "\n",
       "       [[1, 1, 1, 1, 1, 1],\n",
       "        [1, 1, 1, 1, 1, 1],\n",
       "        [1, 1, 1, 1, 1, 1],\n",
       "        [1, 1, 1, 1, 1, 1],\n",
       "        [1, 1, 1, 1, 1, 1]],\n",
       "\n",
       "       [[1, 1, 1, 1, 1, 1],\n",
       "        [1, 1, 1, 1, 1, 1],\n",
       "        [1, 1, 1, 1, 1, 1],\n",
       "        [1, 1, 1, 1, 1, 1],\n",
       "        [1, 1, 1, 1, 1, 1]],\n",
       "\n",
       "       [[1, 1, 1, 1, 1, 1],\n",
       "        [1, 1, 1, 1, 1, 1],\n",
       "        [1, 1, 1, 1, 1, 1],\n",
       "        [1, 1, 1, 1, 1, 1],\n",
       "        [1, 1, 1, 1, 1, 1]]])"
      ]
     },
     "execution_count": 65,
     "metadata": {},
     "output_type": "execute_result"
    }
   ],
   "source": [
    "# Create ones matrix\n",
    "B = np.ones((4,5,6),dtype='int')\n",
    "B"
   ]
  },
  {
   "cell_type": "markdown",
   "id": "833ad5a3",
   "metadata": {},
   "source": [
    "#### indexing and slicing in numpy array"
   ]
  },
  {
   "cell_type": "code",
   "execution_count": 66,
   "id": "f46d6551",
   "metadata": {},
   "outputs": [
    {
     "data": {
      "text/plain": [
       "array([ 0,  1,  2,  3,  4,  5,  6,  7,  8,  9, 10, 11, 12, 13, 14, 15, 16,\n",
       "       17, 18, 19, 20, 21, 22, 23, 24, 25, 26, 27, 28, 29, 30, 31, 32, 33,\n",
       "       34, 35, 36, 37, 38, 39, 40, 41, 42, 43, 44, 45, 46, 47, 48, 49, 50,\n",
       "       51, 52, 53, 54, 55, 56, 57, 58, 59, 60, 61, 62, 63, 64, 65, 66, 67,\n",
       "       68, 69, 70, 71, 72, 73, 74, 75, 76, 77, 78, 79, 80, 81, 82, 83, 84,\n",
       "       85, 86, 87, 88, 89, 90, 91, 92, 93, 94, 95, 96, 97, 98, 99])"
      ]
     },
     "execution_count": 66,
     "metadata": {},
     "output_type": "execute_result"
    }
   ],
   "source": [
    "A=np.arange(100)\n",
    "A"
   ]
  },
  {
   "cell_type": "code",
   "execution_count": 67,
   "id": "5187a8ea",
   "metadata": {},
   "outputs": [
    {
     "data": {
      "text/plain": [
       "array([ 3,  8, 13, 18, 23, 28, 33, 38, 43, 48, 53, 58, 63, 68, 73, 78])"
      ]
     },
     "execution_count": 67,
     "metadata": {},
     "output_type": "execute_result"
    }
   ],
   "source": [
    "# slicing array[start:end:step]\n",
    "B = A[3:80:5]\n",
    "B"
   ]
  },
  {
   "cell_type": "code",
   "execution_count": 68,
   "id": "48d42897",
   "metadata": {},
   "outputs": [
    {
     "data": {
      "text/plain": [
       "array([ 3, -8, 13, 18, 23, 28, 33, 38, 43, 48, 53, 58, 63, 68, 73, 78])"
      ]
     },
     "execution_count": 68,
     "metadata": {},
     "output_type": "execute_result"
    }
   ],
   "source": [
    "B[1]=-8\n",
    "B   # It is obvious that -8 will appear in B"
   ]
  },
  {
   "cell_type": "code",
   "execution_count": 69,
   "id": "e5d1f03c",
   "metadata": {},
   "outputs": [
    {
     "data": {
      "text/plain": [
       "array([ 0,  1,  2,  3,  4,  5,  6,  7, -8,  9, 10, 11, 12, 13, 14, 15, 16,\n",
       "       17, 18, 19, 20, 21, 22, 23, 24, 25, 26, 27, 28, 29, 30, 31, 32, 33,\n",
       "       34, 35, 36, 37, 38, 39, 40, 41, 42, 43, 44, 45, 46, 47, 48, 49, 50,\n",
       "       51, 52, 53, 54, 55, 56, 57, 58, 59, 60, 61, 62, 63, 64, 65, 66, 67,\n",
       "       68, 69, 70, 71, 72, 73, 74, 75, 76, 77, 78, 79, 80, 81, 82, 83, 84,\n",
       "       85, 86, 87, 88, 89, 90, 91, 92, 93, 94, 95, 96, 97, 98, 99])"
      ]
     },
     "execution_count": 69,
     "metadata": {},
     "output_type": "execute_result"
    }
   ],
   "source": [
    "# Here notice that -8 also appear in A\n",
    "A  # This is because unlike list slicing in numpy array does not create copy of the list instead point to the same memory"
   ]
  },
  {
   "cell_type": "code",
   "execution_count": 70,
   "id": "714a6898",
   "metadata": {},
   "outputs": [
    {
     "data": {
      "text/plain": [
       "array([99, 98, 97, 96, 95, 94, 93, 92, 91, 90, 89, 88, 87, 86, 85, 84, 83,\n",
       "       82, 81, 80, 79, 78, 77, 76, 75, 74, 73, 72, 71, 70, 69, 68, 67, 66,\n",
       "       65, 64, 63, 62, 61, 60, 59, 58, 57, 56, 55, 54, 53, 52, 51, 50, 49,\n",
       "       48, 47, 46, 45, 44, 43, 42, 41, 40, 39, 38, 37, 36, 35, 34, 33, 32,\n",
       "       31, 30, 29, 28, 27, 26, 25, 24, 23, 22, 21, 20, 19, 18, 17, 16, 15,\n",
       "       14, 13, 12, 11, 10,  9, -8,  7,  6,  5,  4,  3,  2,  1,  0])"
      ]
     },
     "execution_count": 70,
     "metadata": {},
     "output_type": "execute_result"
    }
   ],
   "source": [
    "# Reverse A in just one line\n",
    "\n",
    "A[::-1]"
   ]
  },
  {
   "cell_type": "code",
   "execution_count": 71,
   "id": "db45c0ff",
   "metadata": {},
   "outputs": [],
   "source": [
    "# hey -8 is still there we have to change that lets find index of -8\n",
    "idx = np.argwhere(A==-8)[0][0] # argwhere returns array thatswhy [0][0] is written to return a number"
   ]
  },
  {
   "cell_type": "code",
   "execution_count": 72,
   "id": "a2e24836",
   "metadata": {},
   "outputs": [
    {
     "data": {
      "text/plain": [
       "8"
      ]
     },
     "execution_count": 72,
     "metadata": {},
     "output_type": "execute_result"
    }
   ],
   "source": [
    "idx"
   ]
  },
  {
   "cell_type": "code",
   "execution_count": 73,
   "id": "66c37a4a",
   "metadata": {},
   "outputs": [
    {
     "data": {
      "text/plain": [
       "array([ 0,  1,  2,  3,  4,  5,  6,  7,  8,  9, 10, 11, 12, 13, 14, 15, 16,\n",
       "       17, 18, 19, 20, 21, 22, 23, 24, 25, 26, 27, 28, 29, 30, 31, 32, 33,\n",
       "       34, 35, 36, 37, 38, 39, 40, 41, 42, 43, 44, 45, 46, 47, 48, 49, 50,\n",
       "       51, 52, 53, 54, 55, 56, 57, 58, 59, 60, 61, 62, 63, 64, 65, 66, 67,\n",
       "       68, 69, 70, 71, 72, 73, 74, 75, 76, 77, 78, 79, 80, 81, 82, 83, 84,\n",
       "       85, 86, 87, 88, 89, 90, 91, 92, 93, 94, 95, 96, 97, 98, 99])"
      ]
     },
     "execution_count": 73,
     "metadata": {},
     "output_type": "execute_result"
    }
   ],
   "source": [
    "A[8]=8\n",
    "A"
   ]
  },
  {
   "cell_type": "code",
   "execution_count": 74,
   "id": "6f2ee3a2",
   "metadata": {},
   "outputs": [
    {
     "data": {
      "text/plain": [
       "array([ 3,  8, 13, 18, 23, 28, 33, 38, 43, 48, 53, 58, 63, 68, 73, 78])"
      ]
     },
     "execution_count": 74,
     "metadata": {},
     "output_type": "execute_result"
    }
   ],
   "source": [
    "B   # See by changing A B also changed ( -8 replaced by 8)"
   ]
  },
  {
   "cell_type": "code",
   "execution_count": 75,
   "id": "3399e67e",
   "metadata": {},
   "outputs": [
    {
     "data": {
      "text/plain": [
       "array([[6.35306059, 3.4028313 , 0.77191025],\n",
       "       [7.41209919, 9.52920142, 7.70652782],\n",
       "       [5.9273699 , 1.32454447, 3.06644027],\n",
       "       [0.47462863, 6.50500143, 9.45707157]])"
      ]
     },
     "execution_count": 75,
     "metadata": {},
     "output_type": "execute_result"
    }
   ],
   "source": [
    "# Create a 2D matrix\n",
    "A = 10*np.random.rand(4,3)\n",
    "A"
   ]
  },
  {
   "cell_type": "code",
   "execution_count": 76,
   "id": "846d8682",
   "metadata": {},
   "outputs": [
    {
     "data": {
      "text/plain": [
       "9.529201423557273"
      ]
     },
     "execution_count": 76,
     "metadata": {},
     "output_type": "execute_result"
    }
   ],
   "source": [
    "A[1,1]"
   ]
  },
  {
   "cell_type": "code",
   "execution_count": 77,
   "id": "9b082c4d",
   "metadata": {},
   "outputs": [
    {
     "data": {
      "text/plain": [
       "array([3.06644027, 5.9273699 ])"
      ]
     },
     "execution_count": 77,
     "metadata": {},
     "output_type": "execute_result"
    }
   ],
   "source": [
    "# print third row in reverse order by skipping one element\n",
    "A[2,::-2]"
   ]
  },
  {
   "cell_type": "code",
   "execution_count": 78,
   "id": "75fe7ebb",
   "metadata": {},
   "outputs": [
    {
     "data": {
      "text/plain": [
       "array([[6.35306059, 7.41209919, 5.9273699 , 0.47462863],\n",
       "       [3.4028313 , 9.52920142, 1.32454447, 6.50500143],\n",
       "       [0.77191025, 7.70652782, 3.06644027, 9.45707157]])"
      ]
     },
     "execution_count": 78,
     "metadata": {},
     "output_type": "execute_result"
    }
   ],
   "source": [
    "# Find Transpose of A\n",
    "A.T"
   ]
  },
  {
   "cell_type": "code",
   "execution_count": 79,
   "id": "5243b1ba",
   "metadata": {},
   "outputs": [],
   "source": [
    "import numpy.linalg as la"
   ]
  },
  {
   "cell_type": "code",
   "execution_count": 80,
   "id": "547d29b9",
   "metadata": {},
   "outputs": [
    {
     "data": {
      "text/plain": [
       "array([[ -8.33107695,  -7.01170782,   9.53855492],\n",
       "       [ 19.5195909 ,  10.11623724, -16.06437131],\n",
       "       [-18.63001316,  -5.12361376,  12.51268868]])"
      ]
     },
     "execution_count": 80,
     "metadata": {},
     "output_type": "execute_result"
    }
   ],
   "source": [
    "la.inv(np.random.rand(3,3))"
   ]
  },
  {
   "cell_type": "code",
   "execution_count": 81,
   "id": "3d11e83f",
   "metadata": {},
   "outputs": [
    {
     "data": {
      "text/plain": [
       "array([[6.35306059, 3.4028313 , 0.77191025],\n",
       "       [7.41209919, 9.52920142, 7.70652782],\n",
       "       [5.9273699 , 1.32454447, 3.06644027],\n",
       "       [0.47462863, 6.50500143, 9.45707157]])"
      ]
     },
     "execution_count": 81,
     "metadata": {},
     "output_type": "execute_result"
    }
   ],
   "source": [
    "A"
   ]
  },
  {
   "cell_type": "code",
   "execution_count": 82,
   "id": "a464cedd",
   "metadata": {},
   "outputs": [
    {
     "data": {
      "text/plain": [
       "array([[0.47462863, 1.32454447, 0.77191025],\n",
       "       [5.9273699 , 3.4028313 , 3.06644027],\n",
       "       [6.35306059, 6.50500143, 7.70652782],\n",
       "       [7.41209919, 9.52920142, 9.45707157]])"
      ]
     },
     "execution_count": 82,
     "metadata": {},
     "output_type": "execute_result"
    }
   ],
   "source": [
    "# Sort all columns in matrix A\n",
    "A.sort(axis=0)\n",
    "A"
   ]
  },
  {
   "cell_type": "code",
   "execution_count": 83,
   "id": "42267840",
   "metadata": {},
   "outputs": [],
   "source": [
    "# Sort all rows in matrix A\n",
    "A.sort(axis=1)"
   ]
  },
  {
   "cell_type": "code",
   "execution_count": 84,
   "id": "f94d0157",
   "metadata": {},
   "outputs": [
    {
     "data": {
      "text/plain": [
       "array([[0.47462863, 0.77191025, 1.32454447],\n",
       "       [3.06644027, 3.4028313 , 5.9273699 ],\n",
       "       [6.35306059, 6.50500143, 7.70652782],\n",
       "       [7.41209919, 9.45707157, 9.52920142]])"
      ]
     },
     "execution_count": 84,
     "metadata": {},
     "output_type": "execute_result"
    }
   ],
   "source": [
    "A"
   ]
  },
  {
   "cell_type": "markdown",
   "id": "b9777c9f",
   "metadata": {},
   "source": [
    "#### More indexing in numpy (Masking)"
   ]
  },
  {
   "cell_type": "code",
   "execution_count": 85,
   "id": "089ca022",
   "metadata": {},
   "outputs": [
    {
     "data": {
      "text/plain": [
       "array([ 0,  2,  4,  6,  8, 10, 12, 14, 16, 18, 20, 22, 24, 26, 28, 30, 32,\n",
       "       34, 36, 38, 40, 42, 44, 46, 48, 50, 52, 54, 56, 58, 60, 62, 64, 66,\n",
       "       68, 70, 72, 74, 76, 78, 80, 82, 84, 86, 88, 90, 92, 94, 96, 98])"
      ]
     },
     "execution_count": 85,
     "metadata": {},
     "output_type": "execute_result"
    }
   ],
   "source": [
    "A = np.arange(0,100,2)\n",
    "A"
   ]
  },
  {
   "cell_type": "code",
   "execution_count": 86,
   "id": "be421737",
   "metadata": {},
   "outputs": [
    {
     "data": {
      "text/plain": [
       "array([ 2, 10, 18])"
      ]
     },
     "execution_count": 86,
     "metadata": {},
     "output_type": "execute_result"
    }
   ],
   "source": [
    "B = A[[1,5,9]]   # It makes a copy of element at index 1, 5 and 9 \n",
    "B"
   ]
  },
  {
   "cell_type": "code",
   "execution_count": 87,
   "id": "5ab0840f",
   "metadata": {},
   "outputs": [
    {
     "data": {
      "text/plain": [
       "array([-2, 10, 18])"
      ]
     },
     "execution_count": 87,
     "metadata": {},
     "output_type": "execute_result"
    }
   ],
   "source": [
    "B[0]=-2\n",
    "B"
   ]
  },
  {
   "cell_type": "code",
   "execution_count": 88,
   "id": "b6018b93",
   "metadata": {},
   "outputs": [
    {
     "data": {
      "text/plain": [
       "array([ 0,  2,  4,  6,  8, 10, 12, 14, 16, 18, 20, 22, 24, 26, 28, 30, 32,\n",
       "       34, 36, 38, 40, 42, 44, 46, 48, 50, 52, 54, 56, 58, 60, 62, 64, 66,\n",
       "       68, 70, 72, 74, 76, 78, 80, 82, 84, 86, 88, 90, 92, 94, 96, 98])"
      ]
     },
     "execution_count": 88,
     "metadata": {},
     "output_type": "execute_result"
    }
   ],
   "source": [
    "A    # See - 2 does not appear in A because B is a copy of elements at the delievered index"
   ]
  },
  {
   "cell_type": "code",
   "execution_count": 89,
   "id": "ca65b8f4",
   "metadata": {},
   "outputs": [
    {
     "data": {
      "text/plain": [
       "array([-2, 18])"
      ]
     },
     "execution_count": 89,
     "metadata": {},
     "output_type": "execute_result"
    }
   ],
   "source": [
    "# Boolean masking\n",
    "C = B[[True,False,True]]\n",
    "C"
   ]
  },
  {
   "cell_type": "code",
   "execution_count": 90,
   "id": "713c7ddb",
   "metadata": {},
   "outputs": [
    {
     "data": {
      "text/plain": [
       "array([16])"
      ]
     },
     "execution_count": 90,
     "metadata": {},
     "output_type": "execute_result"
    }
   ],
   "source": [
    "# masking using comparison operator\n",
    "A[A==16]"
   ]
  },
  {
   "cell_type": "code",
   "execution_count": 91,
   "id": "6fb896c7",
   "metadata": {},
   "outputs": [
    {
     "data": {
      "text/plain": [
       "array([ 0,  2,  4,  6,  8, 10, 12, 14, 16, 18])"
      ]
     },
     "execution_count": 91,
     "metadata": {},
     "output_type": "execute_result"
    }
   ],
   "source": [
    "A[A<20]"
   ]
  },
  {
   "cell_type": "code",
   "execution_count": 92,
   "id": "99820b10",
   "metadata": {},
   "outputs": [
    {
     "data": {
      "text/plain": [
       "array([42, 44, 46, 48, 50, 52, 54, 56, 58, 60, 62, 64, 66, 68, 70, 72, 74,\n",
       "       76, 78, 80, 82, 84, 86, 88, 90, 92, 94, 96, 98])"
      ]
     },
     "execution_count": 92,
     "metadata": {},
     "output_type": "execute_result"
    }
   ],
   "source": [
    "A[A>40]"
   ]
  },
  {
   "cell_type": "code",
   "execution_count": 93,
   "id": "2fba9df4",
   "metadata": {},
   "outputs": [
    {
     "data": {
      "text/plain": [
       "array([32, 34, 36, 38, 40, 42, 44, 46, 48, 50, 52, 54, 56, 58])"
      ]
     },
     "execution_count": 93,
     "metadata": {},
     "output_type": "execute_result"
    }
   ],
   "source": [
    "A[(A<60) & (A>30)]"
   ]
  },
  {
   "cell_type": "code",
   "execution_count": 94,
   "id": "e4b0e59b",
   "metadata": {},
   "outputs": [
    {
     "ename": "ValueError",
     "evalue": "The truth value of an array with more than one element is ambiguous. Use a.any() or a.all()",
     "output_type": "error",
     "traceback": [
      "\u001b[1;31m---------------------------------------------------------------------------\u001b[0m",
      "\u001b[1;31mValueError\u001b[0m                                Traceback (most recent call last)",
      "Input \u001b[1;32mIn [94]\u001b[0m, in \u001b[0;36m<cell line: 1>\u001b[1;34m()\u001b[0m\n\u001b[1;32m----> 1\u001b[0m A[(A\u001b[38;5;241m<\u001b[39m\u001b[38;5;241m50\u001b[39m) \u001b[38;5;129;01mand\u001b[39;00m (A\u001b[38;5;241m>\u001b[39m\u001b[38;5;241m20\u001b[39m)]\n",
      "\u001b[1;31mValueError\u001b[0m: The truth value of an array with more than one element is ambiguous. Use a.any() or a.all()"
     ]
    }
   ],
   "source": [
    "A[(A<50) and (A>20)]  # This and cant be used becuase this and operator is for a single element only\n",
    "# On the other hand & can be used because this is for array."
   ]
  },
  {
   "cell_type": "code",
   "execution_count": 95,
   "id": "8624288b",
   "metadata": {},
   "outputs": [
    {
     "data": {
      "text/plain": [
       "array([22, 24, 26, 28, 30, 32, 34, 36, 38, 40, 42, 44, 46, 48, 50, 52, 54,\n",
       "       56, 58, 60, 62, 64, 66, 68, 70, 72, 74, 76, 78, 80, 82, 84, 86, 88,\n",
       "       90, 92, 94, 96, 98])"
      ]
     },
     "execution_count": 95,
     "metadata": {},
     "output_type": "execute_result"
    }
   ],
   "source": [
    "A[(A>40) | (A>20)]  "
   ]
  },
  {
   "cell_type": "code",
   "execution_count": 96,
   "id": "018e449e",
   "metadata": {},
   "outputs": [
    {
     "ename": "ValueError",
     "evalue": "The truth value of an array with more than one element is ambiguous. Use a.any() or a.all()",
     "output_type": "error",
     "traceback": [
      "\u001b[1;31m---------------------------------------------------------------------------\u001b[0m",
      "\u001b[1;31mValueError\u001b[0m                                Traceback (most recent call last)",
      "Input \u001b[1;32mIn [96]\u001b[0m, in \u001b[0;36m<cell line: 1>\u001b[1;34m()\u001b[0m\n\u001b[1;32m----> 1\u001b[0m A[(A\u001b[38;5;241m>\u001b[39m\u001b[38;5;241m40\u001b[39m) \u001b[38;5;129;01mor\u001b[39;00m (A\u001b[38;5;241m>\u001b[39m\u001b[38;5;241m20\u001b[39m)]\n",
      "\u001b[1;31mValueError\u001b[0m: The truth value of an array with more than one element is ambiguous. Use a.any() or a.all()"
     ]
    }
   ],
   "source": [
    "A[(A>40) or (A>20)] # This can not be used because this operator is for single element only\n",
    "# Similarly ~ (not) is used for array and \"not\" is used for single element"
   ]
  },
  {
   "cell_type": "markdown",
   "id": "a67d2401",
   "metadata": {},
   "source": [
    "#### Broadcasting"
   ]
  },
  {
   "cell_type": "code",
   "execution_count": 97,
   "id": "634df331",
   "metadata": {},
   "outputs": [
    {
     "data": {
      "text/plain": [
       "array([3, 3, 5, 3, 2])"
      ]
     },
     "execution_count": 97,
     "metadata": {},
     "output_type": "execute_result"
    }
   ],
   "source": [
    "A = np.array([3,3,5,3,2])\n",
    "A"
   ]
  },
  {
   "cell_type": "code",
   "execution_count": 98,
   "id": "fef99e4a",
   "metadata": {},
   "outputs": [
    {
     "data": {
      "text/plain": [
       "array([ 8,  8, 10,  8,  7])"
      ]
     },
     "execution_count": 98,
     "metadata": {},
     "output_type": "execute_result"
    }
   ],
   "source": [
    "# Add 5 to all elements of the array\n",
    "A+5"
   ]
  },
  {
   "cell_type": "code",
   "execution_count": 99,
   "id": "f7ea00bd",
   "metadata": {},
   "outputs": [
    {
     "data": {
      "text/plain": [
       "array([[1., 1.],\n",
       "       [1., 1.],\n",
       "       [1., 1.]])"
      ]
     },
     "execution_count": 99,
     "metadata": {},
     "output_type": "execute_result"
    }
   ],
   "source": [
    "A = np.ones((3,2))\n",
    "A"
   ]
  },
  {
   "cell_type": "code",
   "execution_count": 100,
   "id": "85c50f60",
   "metadata": {},
   "outputs": [
    {
     "data": {
      "text/plain": [
       "array([[4., 4.],\n",
       "       [4., 4.],\n",
       "       [4., 4.]])"
      ]
     },
     "execution_count": 100,
     "metadata": {},
     "output_type": "execute_result"
    }
   ],
   "source": [
    "# Add 3 to all elements\n",
    "A+3"
   ]
  },
  {
   "cell_type": "code",
   "execution_count": 101,
   "id": "252c9550",
   "metadata": {},
   "outputs": [
    {
     "data": {
      "text/plain": [
       "array([[ 0,  2,  4,  6,  8],\n",
       "       [20, 22, 24, 26, 28],\n",
       "       [10, 12, 14, 16, 18],\n",
       "       [30, 32, 34, 36, 38]])"
      ]
     },
     "execution_count": 101,
     "metadata": {},
     "output_type": "execute_result"
    }
   ],
   "source": [
    "A = np.random.permutation(np.arange(0,40,2).reshape(4,5))\n",
    "A"
   ]
  },
  {
   "cell_type": "code",
   "execution_count": 102,
   "id": "0df1c52c",
   "metadata": {},
   "outputs": [
    {
     "data": {
      "text/plain": [
       "array([[ 0,  1,  2],\n",
       "       [ 9, 10, 11],\n",
       "       [ 6,  7,  8],\n",
       "       [ 3,  4,  5]])"
      ]
     },
     "execution_count": 102,
     "metadata": {},
     "output_type": "execute_result"
    }
   ],
   "source": [
    "B = np.random.permutation(np.arange(0,12).reshape(4,3))\n",
    "B"
   ]
  },
  {
   "cell_type": "code",
   "execution_count": 103,
   "id": "7aba0b46",
   "metadata": {},
   "outputs": [],
   "source": [
    "C = np.hstack((A,B))"
   ]
  },
  {
   "cell_type": "code",
   "execution_count": 104,
   "id": "3f4fd2b9",
   "metadata": {},
   "outputs": [
    {
     "data": {
      "text/plain": [
       "array([[ 0,  2,  4,  6,  8,  0,  1,  2],\n",
       "       [20, 22, 24, 26, 28,  9, 10, 11],\n",
       "       [10, 12, 14, 16, 18,  6,  7,  8],\n",
       "       [30, 32, 34, 36, 38,  3,  4,  5]])"
      ]
     },
     "execution_count": 104,
     "metadata": {},
     "output_type": "execute_result"
    }
   ],
   "source": [
    "C"
   ]
  },
  {
   "cell_type": "code",
   "execution_count": 105,
   "id": "4308f07c",
   "metadata": {},
   "outputs": [
    {
     "data": {
      "text/plain": [
       "array([[ 5,  6,  7,  8,  9],\n",
       "       [ 0,  1,  2,  3,  4],\n",
       "       [10, 11, 12, 13, 14]])"
      ]
     },
     "execution_count": 105,
     "metadata": {},
     "output_type": "execute_result"
    }
   ],
   "source": [
    "D = np.random.permutation(np.arange(0,15).reshape(3,5))\n",
    "D"
   ]
  },
  {
   "cell_type": "code",
   "execution_count": 106,
   "id": "469f5c94",
   "metadata": {},
   "outputs": [],
   "source": [
    "E = np.vstack((A,D))"
   ]
  },
  {
   "cell_type": "code",
   "execution_count": 107,
   "id": "37f21bc3",
   "metadata": {},
   "outputs": [
    {
     "data": {
      "text/plain": [
       "array([[ 0,  2,  4,  6,  8],\n",
       "       [20, 22, 24, 26, 28],\n",
       "       [10, 12, 14, 16, 18],\n",
       "       [30, 32, 34, 36, 38],\n",
       "       [ 5,  6,  7,  8,  9],\n",
       "       [ 0,  1,  2,  3,  4],\n",
       "       [10, 11, 12, 13, 14]])"
      ]
     },
     "execution_count": 107,
     "metadata": {},
     "output_type": "execute_result"
    }
   ],
   "source": [
    "E"
   ]
  },
  {
   "cell_type": "code",
   "execution_count": 108,
   "id": "2c7aeefe",
   "metadata": {},
   "outputs": [
    {
     "data": {
      "text/plain": [
       "array([4., 4., 1., 2., 3., 6., 9., 9., 0., 6.])"
      ]
     },
     "execution_count": 108,
     "metadata": {},
     "output_type": "execute_result"
    }
   ],
   "source": [
    "X = np.round(10*np.random.rand(10))\n",
    "X"
   ]
  },
  {
   "cell_type": "code",
   "execution_count": 109,
   "id": "0ca9b2db",
   "metadata": {},
   "outputs": [],
   "source": [
    "X.sort() # sort the array"
   ]
  },
  {
   "cell_type": "code",
   "execution_count": 110,
   "id": "b860d6b3",
   "metadata": {},
   "outputs": [
    {
     "data": {
      "text/plain": [
       "array([0., 1., 2., 3., 4., 4., 6., 6., 9., 9.])"
      ]
     },
     "execution_count": 110,
     "metadata": {},
     "output_type": "execute_result"
    }
   ],
   "source": [
    "X"
   ]
  },
  {
   "cell_type": "code",
   "execution_count": 111,
   "id": "6ff65cf8",
   "metadata": {},
   "outputs": [
    {
     "data": {
      "text/plain": [
       "array([ 8.,  3.,  4.,  5.,  9.,  1.,  6.,  9.,  8.,  4.,  1.,  8.,  9.,\n",
       "        8.,  8.,  1.,  0.,  7.,  2.,  2.,  9.,  1.,  2.,  3.,  8.,  3.,\n",
       "        1., 10.,  4.,  6., 10.,  9.,  1.,  5.,  4., 10.,  5.,  6.,  4.,\n",
       "        6.,  6.,  8.,  3.,  8.,  3.,  9.,  2.,  2.,  2.,  5.,  3.,  1.,\n",
       "        1.,  9.,  5.,  8.,  3.,  6.,  2.,  7.,  6.,  4.,  9.,  9.,  3.,\n",
       "        5.,  4.,  5.,  7.,  1.,  2.,  7.,  9.,  5.,  5.,  5.,  8.,  3.,\n",
       "        6.,  7.,  4.,  4.,  1.,  3.,  4.,  3.,  2.,  3.,  6.,  8.,  8.,\n",
       "        2.,  6., 10.,  4.,  8.,  3.,  7.,  2., 10.,  2.,  4.,  8.,  3.,\n",
       "        5.,  7., 10.,  3.,  2.,  9.,  8.,  6.,  2.,  7.,  5.,  3.,  9.,\n",
       "        6.,  1.,  8.,  6.,  3.,  4.,  2.,  4.,  6.,  1., 10.,  1.,  7.,\n",
       "        9.,  6.,  9.,  6.,  9.,  0.,  2.,  5.,  4.,  3.,  8.,  4., 10.,\n",
       "        9.,  2.,  9.,  4.,  2.,  1.,  4.,  9.,  0.,  2.,  4.,  6.,  8.,\n",
       "        8.,  7.,  1.,  6.,  7.,  5.,  2.,  9.,  5.,  1.,  3.,  8.,  9.,\n",
       "        5.,  4.,  0.,  2.,  3.,  2.,  6.,  5.,  1.,  9.,  4.,  2.,  0.,\n",
       "        1.,  5.,  2.,  8.,  5.,  6.,  5.,  1.,  4.,  8.,  5.,  7., 10.,\n",
       "        5.,  2.,  3.,  8.,  6.,  2.,  4., 10.,  8.,  9.,  7.,  5.,  9.,\n",
       "        7.,  0., 10.,  1.,  1.,  9.,  4.,  4., 10.,  4.,  3., 10.,  7.,\n",
       "        7.,  9.,  7.,  1.,  2.,  9.,  1.,  6.,  8.,  6., 10.,  7.,  8.,\n",
       "        5.,  1.,  8.,  1.,  3.,  4.,  3., 10.,  0.,  7.,  4.,  9.,  9.,\n",
       "        4.,  5.,  1.,  4.,  1.,  9.,  2.,  4.,  3.,  3.,  3.,  9.,  5.,\n",
       "        1.,  7.,  4.,  2.,  2.,  8.,  5.,  1.,  2.,  2.,  6.,  6.,  8.,\n",
       "        4.,  9.,  9.,  8.,  9.,  9.,  1.,  2.,  6.,  8.,  0.,  1.,  4.,\n",
       "        9.,  3.,  6.,  8., 10.,  5.,  9.,  5.,  4.,  4.,  3.,  4.,  3.,\n",
       "        5.,  4.,  1.,  8.,  6.,  3.,  6.,  3.,  4.,  3.,  3.,  1.,  4.,\n",
       "        1.,  9.,  5.,  7.,  2.,  0.,  5.,  8.,  9.,  7.,  8.,  7.,  2.,\n",
       "        6.,  5.,  4.,  0.,  9.,  7.,  6.,  2.,  2., 10.,  2.,  4.,  2.,\n",
       "        4.,  3.,  5.,  8.,  3.,  5.,  9.,  3.,  3.,  9.,  2.,  2., 10.,\n",
       "        3.,  4.,  4.,  6.,  7.,  1.,  4.,  8.,  9.,  2.,  6.,  1.,  5.,\n",
       "       10.,  5.,  9.,  1.,  3.,  7.,  8.,  5.,  7.,  2.,  9.,  8.,  4.,\n",
       "        6.,  2.,  4.,  1.,  2.,  1.,  9.,  7.,  7.,  3.,  7.,  2.,  5.,\n",
       "       10.,  2.,  2.,  6.,  6.,  3.,  2.,  6.,  5., 10.,  6., 10.,  5.,\n",
       "        5.,  8.,  5.,  9.,  4.,  2.,  6.,  1.,  2.,  9.,  4.,  0.,  3.,\n",
       "        6.,  6.,  6.,  6.,  7.,  9.,  4.,  0.,  9.,  0.,  3.,  7.,  3.,\n",
       "        9.,  2.,  5.,  1.,  2.,  5.,  4.,  6.,  4.,  7.,  4.,  6.,  3.,\n",
       "        5.,  6.,  5.,  7.,  6.,  5.,  5.,  1.,  8.,  4.,  8., 10.,  6.,\n",
       "        0.,  6.,  6., 10.,  5.,  1.,  3.,  6.,  7.,  1.,  5.,  8.,  5.,\n",
       "        2.,  5.,  3.,  4.,  6.,  8.,  4.,  7.,  0.,  4.,  9.,  2.,  1.,\n",
       "        5.,  7.,  3.,  3.,  7.,  1.,  7.,  6.,  2., 10.,  0.,  5.,  2.,\n",
       "        1.,  0.,  9.,  6.,  1.,  1.,  2.,  9.,  0.,  4.,  5.,  4.,  8.,\n",
       "        5.,  1.,  9.,  6.,  7.,  2.,  1.,  9.,  6.,  4.,  7.,  9.,  6.,\n",
       "        3.,  5.,  6.,  1.,  8.,  8.,  1.,  8.,  2.,  1.,  6.,  8.,  1.,\n",
       "        7.,  9.,  9.,  9.,  9.,  2.,  2.,  3.,  3.,  6.,  0.,  3.,  6.,\n",
       "        1.,  7.,  9.,  4.,  9.,  1.,  9.,  0.,  5.,  2.,  6.,  0.,  9.,\n",
       "        5.,  9.,  1.,  7.,  6.,  9.,  9.,  5.,  4.,  2., 10.,  9.,  7.,\n",
       "        7.,  3.,  0.,  6.,  3.,  1.,  6.,  6.,  4.,  5.,  3.,  5.,  1.,\n",
       "        9.,  2.,  5.,  1.,  8.,  9.,  5.,  1.,  4.,  9.,  8.,  3.,  3.,\n",
       "        6.,  4.,  1.,  7.,  9.,  6.,  2.,  4.,  1.,  3.,  5.,  0.,  8.,\n",
       "        2.,  3.,  5., 10.,  9.,  6.,  8.,  2.,  2.,  3.,  4., 10.,  7.,\n",
       "        4.,  5.,  9.,  0.,  7.,  8.,  2.,  3.,  5.,  7.,  0.,  6.,  7.,\n",
       "        0.,  7.,  2.,  0.,  2.,  2.,  6.,  8.,  9.,  3.,  1.,  5.,  9.,\n",
       "        7.,  5.,  4.,  0.,  5.,  8.,  1.,  8.,  7.,  1.,  1.,  4.,  3.,\n",
       "        7.,  8.,  4.,  3.,  1.,  8.,  9.,  6.,  2.,  6.,  4.,  7., 10.,\n",
       "        8.,  5.,  5.,  8.,  6.,  5.,  9.,  8.,  9.,  6.,  9.,  3.,  6.,\n",
       "        1.,  2.,  6., 10.,  0.,  5.,  6.,  7.,  9.,  4.,  6.,  1.,  2.,\n",
       "        0.,  5.,  9.,  0.,  2.,  7.,  9.,  1., 10.,  7.,  6.,  9.,  9.,\n",
       "        3.,  0.,  0.,  6.,  0.,  5.,  3.,  7.,  2.,  2.,  8.,  3.,  8.,\n",
       "        0.,  6.,  3.,  7.,  9.,  7.,  3.,  6.,  4.,  8.,  0.,  1.,  8.,\n",
       "        3.,  4.,  1.,  8.,  6.,  2.,  8.,  8.,  8., 10.,  2.,  9.,  9.,\n",
       "        6.,  6.,  7.,  2.,  9.,  3.,  5.,  5.,  4.,  7.,  2.,  3.,  6.,\n",
       "        0.,  9.,  9.,  1.,  9.,  5.,  6.,  3.,  9.,  3.,  7.,  6., 10.,\n",
       "        4.,  1.,  5.,  1.,  5.,  7.,  3.,  8.,  6.,  9.,  8.,  3.,  2.,\n",
       "        8.,  2.,  8.,  7.,  4.,  4.,  6.,  0.,  5.,  8.,  9.,  7.,  5.,\n",
       "        1.,  0.,  8.,  5.,  7.,  0.,  8.,  1.,  3.,  6.,  6.,  4.,  7.,\n",
       "        8.,  5.,  1.,  8.,  7.,  5.,  6.,  1., 10.,  7.,  7.,  2.,  8.,\n",
       "        5.,  3.,  9.,  8.,  2.,  3.,  4.,  1.,  4., 10.,  6.,  4.,  7.,\n",
       "        2.,  4.,  5.,  9.,  9.,  9.,  2.,  2.,  0.,  7.,  9.,  3.,  5.,\n",
       "        3.,  3.,  3.,  7.,  4.,  7.,  6.,  9.,  6.,  1.,  7.,  6.,  5.,\n",
       "        0.,  7.,  2.,  0.,  1.,  7.,  6.,  5.,  3.,  7.,  2.,  6.,  0.,\n",
       "        5.,  0., 10.,  4.,  6.,  8.,  5.,  3.,  9.,  9., 10.,  4.,  1.,\n",
       "        8.,  7.,  9.,  0., 10.,  8.,  2.,  7.,  6.,  8., 10.,  7.,  5.,\n",
       "        1.,  2.,  9.,  1.,  3., 10.,  8.,  1.,  0.,  9.,  0.,  2.,  7.,\n",
       "        5.,  6.,  7.,  7.,  6.,  4.,  9.,  4.,  7.,  1.,  6.,  8.,  2.,\n",
       "        8.,  8.,  1., 10.,  8.,  9.,  4.,  2.,  2.,  8.,  9.,  1.,  6.,\n",
       "        6., 10.,  2.,  3.,  1.,  2.,  9.,  3.,  7.,  4.,  6.,  7.,  6.,\n",
       "        6.,  0.,  9.,  0.,  4.,  9.,  5.,  1.,  3.,  6.,  8.,  4.,  8.,\n",
       "        8.,  3.,  8.,  2.,  8., 10.,  3.,  4.,  4.,  4.,  3.,  1.,  6.,\n",
       "        0.,  9.,  3.,  8.,  6.,  4.,  7.,  5.,  6.,  4.,  1.,  7.])"
      ]
     },
     "execution_count": 111,
     "metadata": {},
     "output_type": "execute_result"
    }
   ],
   "source": [
    "# Lets check how fast numpy functions are over other python functions\n",
    "Y = np.round(10*np.random.rand(1000))\n",
    "Y"
   ]
  },
  {
   "cell_type": "code",
   "execution_count": 112,
   "id": "f6429ab7",
   "metadata": {},
   "outputs": [
    {
     "name": "stdout",
     "output_type": "stream",
     "text": [
      "3.37 µs ± 383 ns per loop (mean ± std. dev. of 7 runs, 100,000 loops each)\n",
      "57 µs ± 292 ns per loop (mean ± std. dev. of 7 runs, 10,000 loops each)\n"
     ]
    }
   ],
   "source": [
    "%timeit np.sum(Y) # see how fast numpy function is it is around 50 times faster than normal python fun\n",
    "%timeit sum(Y) "
   ]
  },
  {
   "cell_type": "code",
   "execution_count": 113,
   "id": "7dd69226",
   "metadata": {},
   "outputs": [],
   "source": [
    "# Lets check time for our own created function\n",
    "def mysum(arr):\n",
    "    s = 0\n",
    "    for i in arr:\n",
    "        s+=arr\n",
    "    return s"
   ]
  },
  {
   "cell_type": "code",
   "execution_count": 114,
   "id": "4a5aa6a9",
   "metadata": {},
   "outputs": [
    {
     "name": "stdout",
     "output_type": "stream",
     "text": [
      "905 µs ± 6.26 µs per loop (mean ± std. dev. of 7 runs, 1,000 loops each)\n"
     ]
    }
   ],
   "source": [
    "%timeit mysum(Y)"
   ]
  },
  {
   "cell_type": "code",
   "execution_count": null,
   "id": "01d698c6",
   "metadata": {},
   "outputs": [],
   "source": []
  }
 ],
 "metadata": {
  "kernelspec": {
   "display_name": "Python 3 (ipykernel)",
   "language": "python",
   "name": "python3"
  },
  "language_info": {
   "codemirror_mode": {
    "name": "ipython",
    "version": 3
   },
   "file_extension": ".py",
   "mimetype": "text/x-python",
   "name": "python",
   "nbconvert_exporter": "python",
   "pygments_lexer": "ipython3",
   "version": "3.9.12"
  }
 },
 "nbformat": 4,
 "nbformat_minor": 5
}
