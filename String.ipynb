{
 "cells": [
  {
   "cell_type": "code",
   "execution_count": 2,
   "id": "095c997b",
   "metadata": {},
   "outputs": [
    {
     "name": "stdout",
     "output_type": "stream",
     "text": [
      "anas <class 'str'>\n"
     ]
    }
   ],
   "source": [
    "name = 'anas' # you can use both single quotation and double quoatation to read a string.\n",
    "print(name,type(name))"
   ]
  },
  {
   "cell_type": "code",
   "execution_count": 2,
   "id": "1e5dfedf",
   "metadata": {},
   "outputs": [
    {
     "data": {
      "text/plain": [
       "'\\n      You see that this is multiline string.\\n      this is second line of string.\\n      and this is the final line.\\n'"
      ]
     },
     "execution_count": 2,
     "metadata": {},
     "output_type": "execute_result"
    }
   ],
   "source": [
    "# Multiline String \n",
    "a = \"\"\"\n",
    "      You see that this is multiline string.\n",
    "      this is second line of string.\n",
    "      and this is the final line.\n",
    "\"\"\"\n",
    "a # it is printing in weird way "
   ]
  },
  {
   "cell_type": "code",
   "execution_count": 3,
   "id": "54f962ee",
   "metadata": {},
   "outputs": [
    {
     "name": "stdout",
     "output_type": "stream",
     "text": [
      "\n",
      "      You see that this is multiline string.\n",
      "      this is second line of string.\n",
      "      and this is the final line.\n",
      "\n"
     ]
    }
   ],
   "source": [
    "print(a) # it is printing in organized way"
   ]
  },
  {
   "cell_type": "code",
   "execution_count": 4,
   "id": "31bd5013",
   "metadata": {},
   "outputs": [
    {
     "data": {
      "text/plain": [
       "'\\n      You see that this is multiline string.\\n      this is second line of string.\\n      and this is the final line.\\n'"
      ]
     },
     "execution_count": 4,
     "metadata": {},
     "output_type": "execute_result"
    }
   ],
   "source": [
    "a # why it is printing like this?"
   ]
  },
  {
   "cell_type": "code",
   "execution_count": 3,
   "id": "acabda54",
   "metadata": {},
   "outputs": [],
   "source": [
    "# indexing in string\n",
    "string = \" Hey! How are you?\" #string in python read charactor wise"
   ]
  },
  {
   "cell_type": "code",
   "execution_count": 4,
   "id": "11046e6c",
   "metadata": {},
   "outputs": [
    {
     "data": {
      "text/plain": [
       "'y'"
      ]
     },
     "execution_count": 4,
     "metadata": {},
     "output_type": "execute_result"
    }
   ],
   "source": [
    "# Access 4th element\n",
    "string[3] # Because indexing start from 0"
   ]
  },
  {
   "cell_type": "code",
   "execution_count": 7,
   "id": "e5d335b9",
   "metadata": {},
   "outputs": [
    {
     "data": {
      "text/plain": [
       "'?'"
      ]
     },
     "execution_count": 7,
     "metadata": {},
     "output_type": "execute_result"
    }
   ],
   "source": [
    "# Negative indexing\n",
    "string[-1] # -1 refers to last character"
   ]
  },
  {
   "cell_type": "code",
   "execution_count": 8,
   "id": "cc795b2d",
   "metadata": {},
   "outputs": [
    {
     "data": {
      "text/plain": [
       "' Hey! How are you?'"
      ]
     },
     "execution_count": 8,
     "metadata": {},
     "output_type": "execute_result"
    }
   ],
   "source": [
    "# Slicing: string[start:end:step]\n",
    "string[0:] # default value of end is till last"
   ]
  },
  {
   "cell_type": "code",
   "execution_count": 9,
   "id": "ab31ba27",
   "metadata": {},
   "outputs": [
    {
     "data": {
      "text/plain": [
       "' Hey! Ho'"
      ]
     },
     "execution_count": 9,
     "metadata": {},
     "output_type": "execute_result"
    }
   ],
   "source": [
    "string[:8] # default value of start is 0, here 8 is not included "
   ]
  },
  {
   "cell_type": "code",
   "execution_count": 10,
   "id": "832a824b",
   "metadata": {},
   "outputs": [
    {
     "data": {
      "text/plain": [
       "'y! Ho'"
      ]
     },
     "execution_count": 10,
     "metadata": {},
     "output_type": "execute_result"
    }
   ],
   "source": [
    "string[3:8] #default value of step is 1 and also notice that it start from 3 and end at 7, 8 is not included"
   ]
  },
  {
   "cell_type": "code",
   "execution_count": 5,
   "id": "254eb611",
   "metadata": {},
   "outputs": [
    {
     "data": {
      "text/plain": [
       "'!oa'"
      ]
     },
     "execution_count": 5,
     "metadata": {},
     "output_type": "execute_result"
    }
   ],
   "source": [
    "string[4:13:3]"
   ]
  },
  {
   "cell_type": "code",
   "execution_count": 12,
   "id": "3d24c662",
   "metadata": {},
   "outputs": [],
   "source": [
    "# Functions of string\n",
    "# strip\n",
    "# upper\n",
    "# lower\n",
    "# capitalize\n",
    "# split\n",
    "# count\n",
    "# more functions may be you can check this in jupyter noterbook by pressign string name and dot[.]"
   ]
  },
  {
   "cell_type": "code",
   "execution_count": 6,
   "id": "93d6cfa1",
   "metadata": {},
   "outputs": [
    {
     "ename": "SyntaxError",
     "evalue": "invalid syntax (2081495597.py, line 5)",
     "output_type": "error",
     "traceback": [
      "\u001b[1;36m  Input \u001b[1;32mIn [6]\u001b[1;36m\u001b[0m\n\u001b[1;33m    string.\u001b[0m\n\u001b[1;37m           ^\u001b[0m\n\u001b[1;31mSyntaxError\u001b[0m\u001b[1;31m:\u001b[0m invalid syntax\n"
     ]
    }
   ],
   "source": [
    "# All functions of string is used by dot method e.g, a.uppper(), where a is a string\n",
    "# More specifically these are methods. one difference between function and method is that in method\n",
    "# we dont have to pass argument inside the bracket. As we write a.upper() that means apply upper\n",
    "# function on string a"
   ]
  },
  {
   "cell_type": "code",
   "execution_count": null,
   "id": "9a5feeec",
   "metadata": {},
   "outputs": [],
   "source": [
    "a = 'anas'"
   ]
  },
  {
   "cell_type": "code",
   "execution_count": 7,
   "id": "35e2f680",
   "metadata": {},
   "outputs": [
    {
     "name": "stdout",
     "output_type": "stream",
     "text": [
      "    There is a lot of space     at the beginning and at the end         \n"
     ]
    }
   ],
   "source": [
    "a=\"    There is a lot of space     at the beginning and at the end         \"\n",
    "b = a\n",
    "print(b)"
   ]
  },
  {
   "cell_type": "code",
   "execution_count": 8,
   "id": "11a882f1",
   "metadata": {},
   "outputs": [
    {
     "name": "stdout",
     "output_type": "stream",
     "text": [
      "There is a lot of space     at the beginning and at the end\n"
     ]
    }
   ],
   "source": [
    "b=a.strip() # it removes spaces form beginning and end of string\n",
    "print(b)"
   ]
  },
  {
   "cell_type": "code",
   "execution_count": 9,
   "id": "fdc7c7a9",
   "metadata": {},
   "outputs": [
    {
     "data": {
      "text/plain": [
       "'md shahreyar hannan'"
      ]
     },
     "execution_count": 9,
     "metadata": {},
     "output_type": "execute_result"
    }
   ],
   "source": [
    "name = \"MD Shahreyar Hannan\"\n",
    "name.lower() # it lowers the character of string "
   ]
  },
  {
   "cell_type": "code",
   "execution_count": 10,
   "id": "c3a11eed",
   "metadata": {},
   "outputs": [
    {
     "data": {
      "text/plain": [
       "'MD SHAHREYAR HANNAN'"
      ]
     },
     "execution_count": 10,
     "metadata": {},
     "output_type": "execute_result"
    }
   ],
   "source": [
    "name.upper() # it converts all the character from lower to upper case"
   ]
  },
  {
   "cell_type": "code",
   "execution_count": 18,
   "id": "361089f8",
   "metadata": {},
   "outputs": [
    {
     "data": {
      "text/plain": [
       "'Md shahreyar hannan'"
      ]
     },
     "execution_count": 18,
     "metadata": {},
     "output_type": "execute_result"
    }
   ],
   "source": [
    "name.capitalize()"
   ]
  },
  {
   "cell_type": "code",
   "execution_count": 19,
   "id": "0dd9dab1",
   "metadata": {},
   "outputs": [],
   "source": [
    "# name. press tab you will se all functions (methods) of string\n",
    "name."
   ]
  },
  {
   "cell_type": "code",
   "execution_count": 11,
   "id": "f78e8803",
   "metadata": {},
   "outputs": [],
   "source": [
    "name.strip?"
   ]
  },
  {
   "cell_type": "code",
   "execution_count": 21,
   "id": "40a949cb",
   "metadata": {},
   "outputs": [
    {
     "data": {
      "text/plain": [
       "4"
      ]
     },
     "execution_count": 21,
     "metadata": {},
     "output_type": "execute_result"
    }
   ],
   "source": [
    "name.count(\"a\") # count number of occurence of a particular character"
   ]
  },
  {
   "cell_type": "code",
   "execution_count": 12,
   "id": "2c3f3b7e",
   "metadata": {},
   "outputs": [
    {
     "name": "stdout",
     "output_type": "stream",
     "text": [
      "['abc', 'def', 'ghi', 'jkl'] <class 'list'>\n"
     ]
    }
   ],
   "source": [
    "string = \"abc;def;ghi;jkl\"\n",
    "L=string.split(\";\") # Splits the string from passed character which is \";\" here\n",
    "print(L,type(L))"
   ]
  },
  {
   "cell_type": "code",
   "execution_count": 23,
   "id": "8fd4c97a",
   "metadata": {},
   "outputs": [
    {
     "data": {
      "text/plain": [
       "'def'"
      ]
     },
     "execution_count": 23,
     "metadata": {},
     "output_type": "execute_result"
    }
   ],
   "source": [
    "L[1]"
   ]
  },
  {
   "cell_type": "code",
   "execution_count": 24,
   "id": "7f7b6276",
   "metadata": {},
   "outputs": [],
   "source": [
    "# what if we want to check whether a particular substring is present in a string or not\n",
    "# Use in operartor it is bool type return True/False"
   ]
  },
  {
   "cell_type": "code",
   "execution_count": 25,
   "id": "08881c15",
   "metadata": {},
   "outputs": [
    {
     "name": "stdout",
     "output_type": "stream",
     "text": [
      "False\n"
     ]
    }
   ],
   "source": [
    "print(\"abc\" in \"gffdhhjhfgfdhissaa\")"
   ]
  },
  {
   "cell_type": "code",
   "execution_count": 26,
   "id": "69ec0802",
   "metadata": {},
   "outputs": [
    {
     "name": "stdout",
     "output_type": "stream",
     "text": [
      "True\n"
     ]
    }
   ],
   "source": [
    "print(\"akgi\" not in \"kdfhsjkajkfhsdj\")"
   ]
  },
  {
   "cell_type": "code",
   "execution_count": 27,
   "id": "5d3e788c",
   "metadata": {},
   "outputs": [
    {
     "name": "stdout",
     "output_type": "stream",
     "text": [
      "we are learning stringhere\n"
     ]
    }
   ],
   "source": [
    "# We are learning \"string\" here. How to print this\n",
    "print(\"we are learning \"\"string\"  \"here\")"
   ]
  },
  {
   "cell_type": "code",
   "execution_count": 28,
   "id": "9174f818",
   "metadata": {},
   "outputs": [
    {
     "name": "stdout",
     "output_type": "stream",
     "text": [
      "we are learning \"String\" here\n"
     ]
    }
   ],
   "source": [
    "print(\"we are learning \\\"String\\\" here\") # \\\"\\\"This is an escape character which allow to print as it is"
   ]
  },
  {
   "cell_type": "code",
   "execution_count": 29,
   "id": "650b6f9a",
   "metadata": {},
   "outputs": [
    {
     "name": "stdout",
     "output_type": "stream",
     "text": [
      "we are learning \n",
      " string here\n"
     ]
    }
   ],
   "source": [
    "# print in new line  use \\n\n",
    "print(\"we are learning \\n string here\")"
   ]
  },
  {
   "cell_type": "code",
   "execution_count": 30,
   "id": "a492f889",
   "metadata": {},
   "outputs": [
    {
     "name": "stdout",
     "output_type": "stream",
     "text": [
      "we are learning \tstring here\n"
     ]
    }
   ],
   "source": [
    "# print in new tab use \\t\n",
    "print(\"we are learning \\tstring here\")"
   ]
  },
  {
   "cell_type": "code",
   "execution_count": 31,
   "id": "6b809f1a",
   "metadata": {},
   "outputs": [
    {
     "name": "stdout",
     "output_type": "stream",
     "text": [
      "we are learning  \\string here\\\n"
     ]
    }
   ],
   "source": [
    "print(\"we are learning  \\\\string here\\\\\")"
   ]
  },
  {
   "cell_type": "code",
   "execution_count": 32,
   "id": "a7ef277a",
   "metadata": {},
   "outputs": [
    {
     "name": "stdout",
     "output_type": "stream",
     "text": [
      "c:\\drive\n",
      "ame\n"
     ]
    }
   ],
   "source": [
    "print(\"c:\\drive\\name\") # after drive \\n is considered as new line character"
   ]
  },
  {
   "cell_type": "code",
   "execution_count": null,
   "id": "77217a9d",
   "metadata": {},
   "outputs": [],
   "source": []
  }
 ],
 "metadata": {
  "kernelspec": {
   "display_name": "Python 3 (ipykernel)",
   "language": "python",
   "name": "python3"
  },
  "language_info": {
   "codemirror_mode": {
    "name": "ipython",
    "version": 3
   },
   "file_extension": ".py",
   "mimetype": "text/x-python",
   "name": "python",
   "nbconvert_exporter": "python",
   "pygments_lexer": "ipython3",
   "version": "3.9.12"
  }
 },
 "nbformat": 4,
 "nbformat_minor": 5
}
