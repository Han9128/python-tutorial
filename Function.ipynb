{
 "cells": [
  {
   "cell_type": "markdown",
   "id": "a96e6e73",
   "metadata": {},
   "source": [
    "##### What is a function in Python?\n",
    "A function is a block of code which only runs when it is called. You can pass data, known as parameters, into a function. A function can return data as a result."
   ]
  },
  {
   "cell_type": "code",
   "execution_count": 34,
   "id": "2a1c250f",
   "metadata": {},
   "outputs": [],
   "source": [
    "# def function_name(arguments):\n",
    "#     # function body \n",
    "\n",
    "#     return\n",
    "def printSuccess():\n",
    "    \"\"\" This fucntion does nothing print name of the creator of the function.\n",
    "      \"Anas Diab\"\n",
    "    \"\"\"\n",
    "    name=\"Anas Diab\"\n",
    "    roll = \"xxxx\"\n",
    "    age = \"xxxxx\"\n",
    "    insti = \"IIT Kharagpur\"\n",
    "#     print(\"name is:\",name)\n",
    "#     print(\"roll is:\",roll)\n",
    "#     print(age)\n",
    "#     print(insti)\n",
    "    print(name,\"\\n\",roll,\"\\n\",age,\"\\n\",insti)  # \\n is for new line character"
   ]
  },
  {
   "cell_type": "code",
   "execution_count": null,
   "id": "cb2f6f05",
   "metadata": {},
   "outputs": [],
   "source": []
  },
  {
   "cell_type": "code",
   "execution_count": 46,
   "id": "a103ef08",
   "metadata": {},
   "outputs": [],
   "source": [
    "# if you are provided with a function then you can check its comment inside by using ?\n",
    "printSuccess?"
   ]
  },
  {
   "cell_type": "code",
   "execution_count": 36,
   "id": "94479abb",
   "metadata": {},
   "outputs": [],
   "source": [
    "# If you wnat to see entire function then use ??\n",
    "printSuccess??"
   ]
  },
  {
   "cell_type": "code",
   "execution_count": 37,
   "id": "709e8d28",
   "metadata": {},
   "outputs": [
    {
     "name": "stdout",
     "output_type": "stream",
     "text": [
      "Help on function printSuccess in module __main__:\n",
      "\n",
      "printSuccess()\n",
      "    This fucntion does nothing print name of the creator of the function.\n",
      "    \"Anas Diab\"\n",
      "\n"
     ]
    }
   ],
   "source": [
    "# Also we can use help function\n",
    "help(printSuccess)"
   ]
  },
  {
   "cell_type": "code",
   "execution_count": 38,
   "id": "0ad59035",
   "metadata": {},
   "outputs": [
    {
     "name": "stdout",
     "output_type": "stream",
     "text": [
      "Anas Diab \n",
      " xxxx \n",
      " xxxxx \n",
      " IIT Kharagpur\n"
     ]
    }
   ],
   "source": [
    "# Call the fucntion\n",
    "printSuccess()"
   ]
  },
  {
   "cell_type": "code",
   "execution_count": 6,
   "id": "9251181f",
   "metadata": {},
   "outputs": [],
   "source": [
    "# We can also Check built in function e.g\n",
    "len?"
   ]
  },
  {
   "cell_type": "code",
   "execution_count": 7,
   "id": "50582aef",
   "metadata": {},
   "outputs": [
    {
     "name": "stdout",
     "output_type": "stream",
     "text": [
      "Help on built-in function len in module builtins:\n",
      "\n",
      "len(obj, /)\n",
      "    Return the number of items in a container.\n",
      "\n"
     ]
    }
   ],
   "source": [
    "help(len)"
   ]
  },
  {
   "cell_type": "code",
   "execution_count": 8,
   "id": "aa9d6213",
   "metadata": {},
   "outputs": [
    {
     "data": {
      "text/plain": [
       "<function len(obj, /)>"
      ]
     },
     "execution_count": 8,
     "metadata": {},
     "output_type": "execute_result"
    }
   ],
   "source": [
    "len # Press shift + tab to see what function does"
   ]
  },
  {
   "cell_type": "code",
   "execution_count": null,
   "id": "211619b9",
   "metadata": {},
   "outputs": [],
   "source": [
    "# isinstance() # check if the supplied variable is of particular datatype or not"
   ]
  },
  {
   "cell_type": "code",
   "execution_count": 39,
   "id": "422d8fc0",
   "metadata": {},
   "outputs": [],
   "source": [
    "def checkArgs(a,b,c):\n",
    "    \"\"\" This function cheks the type of all the three variables and \n",
    "    then return square of theirs sum\"\"\"\n",
    "    if isinstance(a,(int,float)) and isinstance (b,(int, float)) and isinstance(c,(int, float)):\n",
    "        return ((a+b+c)**2)\n",
    "    else:\n",
    "        return (\"Error: the type of the variable is not what expected!\")"
   ]
  },
  {
   "cell_type": "code",
   "execution_count": 45,
   "id": "c39b366b",
   "metadata": {},
   "outputs": [],
   "source": [
    "checkArgs? # to check what checkArgs does"
   ]
  },
  {
   "cell_type": "code",
   "execution_count": 41,
   "id": "b77fc3f6",
   "metadata": {},
   "outputs": [],
   "source": [
    "checkArgs??  # it shows the whole body of the function"
   ]
  },
  {
   "cell_type": "code",
   "execution_count": 44,
   "id": "e1d9db9f",
   "metadata": {},
   "outputs": [
    {
     "data": {
      "text/plain": [
       "100"
      ]
     },
     "execution_count": 44,
     "metadata": {},
     "output_type": "execute_result"
    }
   ],
   "source": [
    "checkArgs(2,5,3) # as passed argument then a become 2, b become 3 and c become 5"
   ]
  },
  {
   "cell_type": "code",
   "execution_count": 48,
   "id": "c8f5f484",
   "metadata": {},
   "outputs": [
    {
     "data": {
      "text/plain": [
       "'Error: the type of the variable is not what expected!'"
      ]
     },
     "execution_count": 48,
     "metadata": {},
     "output_type": "execute_result"
    }
   ],
   "source": [
    "checkArgs(3,'f',5)"
   ]
  },
  {
   "cell_type": "code",
   "execution_count": 14,
   "id": "85cecca2",
   "metadata": {},
   "outputs": [],
   "source": [
    "# Order of arguments\n",
    "def char(a,b,c):\n",
    "    \"\"\" This function is created show importance of passing arguments in the function\"\"\"\n",
    "    print(\"Print the characters:\",a,b,c)\n",
    "    "
   ]
  },
  {
   "cell_type": "code",
   "execution_count": 15,
   "id": "441980a8",
   "metadata": {},
   "outputs": [],
   "source": [
    "char?"
   ]
  },
  {
   "cell_type": "code",
   "execution_count": 16,
   "id": "26eeda21",
   "metadata": {},
   "outputs": [],
   "source": [
    "char??"
   ]
  },
  {
   "cell_type": "code",
   "execution_count": 17,
   "id": "ebde1145",
   "metadata": {},
   "outputs": [
    {
     "name": "stdout",
     "output_type": "stream",
     "text": [
      "Print the characters: A B C\n"
     ]
    }
   ],
   "source": [
    "# We want to print A B C\n",
    "char('A','B','C')"
   ]
  },
  {
   "cell_type": "code",
   "execution_count": 18,
   "id": "7ef25768",
   "metadata": {},
   "outputs": [
    {
     "name": "stdout",
     "output_type": "stream",
     "text": [
      "Print the characters: B A C\n"
     ]
    }
   ],
   "source": [
    "char('B','A','C')"
   ]
  },
  {
   "cell_type": "code",
   "execution_count": 19,
   "id": "7453089b",
   "metadata": {},
   "outputs": [
    {
     "name": "stdout",
     "output_type": "stream",
     "text": [
      "Print the characters: A B C\n"
     ]
    }
   ],
   "source": [
    "# if you specify the variable inside function while calling then order of passing variable does not make any differnce\n",
    "char(b='B',c='C',a='A')"
   ]
  },
  {
   "cell_type": "code",
   "execution_count": 49,
   "id": "06392c02",
   "metadata": {},
   "outputs": [],
   "source": [
    "# return in function\n",
    "def myadd(a,b):\n",
    "    c= a+b\n",
    "    return c"
   ]
  },
  {
   "cell_type": "code",
   "execution_count": 50,
   "id": "5a15a678",
   "metadata": {},
   "outputs": [
    {
     "ename": "NameError",
     "evalue": "name 'c' is not defined",
     "output_type": "error",
     "traceback": [
      "\u001b[1;31m---------------------------------------------------------------------------\u001b[0m",
      "\u001b[1;31mNameError\u001b[0m                                 Traceback (most recent call last)",
      "Input \u001b[1;32mIn [50]\u001b[0m, in \u001b[0;36m<cell line: 1>\u001b[1;34m()\u001b[0m\n\u001b[1;32m----> 1\u001b[0m \u001b[38;5;28mprint\u001b[39m(\u001b[43mc\u001b[49m)\n",
      "\u001b[1;31mNameError\u001b[0m: name 'c' is not defined"
     ]
    }
   ],
   "source": [
    "print(c) # it does not print c because c is defined in that particular function and not accessible outside"
   ]
  },
  {
   "cell_type": "code",
   "execution_count": 22,
   "id": "2a002cc8",
   "metadata": {},
   "outputs": [],
   "source": [
    "def myadd_(a,b):\n",
    "    c=a+b\n",
    "    return c"
   ]
  },
  {
   "cell_type": "code",
   "execution_count": 23,
   "id": "d0c1989b",
   "metadata": {},
   "outputs": [
    {
     "ename": "NameError",
     "evalue": "name 'c' is not defined",
     "output_type": "error",
     "traceback": [
      "\u001b[1;31m---------------------------------------------------------------------------\u001b[0m",
      "\u001b[1;31mNameError\u001b[0m                                 Traceback (most recent call last)",
      "Input \u001b[1;32mIn [23]\u001b[0m, in \u001b[0;36m<cell line: 1>\u001b[1;34m()\u001b[0m\n\u001b[1;32m----> 1\u001b[0m \u001b[38;5;28mprint\u001b[39m(\u001b[43mc\u001b[49m)\n",
      "\u001b[1;31mNameError\u001b[0m: name 'c' is not defined"
     ]
    }
   ],
   "source": [
    "print(c) # Again not accessible to outside"
   ]
  },
  {
   "cell_type": "code",
   "execution_count": 24,
   "id": "0c367ea4",
   "metadata": {},
   "outputs": [
    {
     "name": "stdout",
     "output_type": "stream",
     "text": [
      "7\n"
     ]
    }
   ],
   "source": [
    "d = myadd_(3,4)\n",
    "print(d)"
   ]
  },
  {
   "cell_type": "code",
   "execution_count": 25,
   "id": "e19ef463",
   "metadata": {},
   "outputs": [],
   "source": [
    "varOutsideFunction = 5\n",
    "def g():\n",
    "    varOutsideFunction = 7\n",
    "    print(varOutsideFunction)"
   ]
  },
  {
   "cell_type": "code",
   "execution_count": 26,
   "id": "942eb98a",
   "metadata": {},
   "outputs": [
    {
     "name": "stdout",
     "output_type": "stream",
     "text": [
      "7\n"
     ]
    }
   ],
   "source": [
    "g() # it prints var inside its own function, because that is accessible first."
   ]
  },
  {
   "cell_type": "code",
   "execution_count": 27,
   "id": "f154322b",
   "metadata": {},
   "outputs": [
    {
     "name": "stdout",
     "output_type": "stream",
     "text": [
      "5\n"
     ]
    }
   ],
   "source": [
    "print(varOutsideFunction) #varOutsideFunction defined inside function is no longer available."
   ]
  },
  {
   "cell_type": "code",
   "execution_count": 28,
   "id": "ccc5648e",
   "metadata": {},
   "outputs": [
    {
     "name": "stdout",
     "output_type": "stream",
     "text": [
      "7\n",
      "None\n"
     ]
    }
   ],
   "source": [
    "print(g()) # A function in python having not return statement always return None"
   ]
  },
  {
   "cell_type": "code",
   "execution_count": 29,
   "id": "2aa1b0a6",
   "metadata": {},
   "outputs": [],
   "source": [
    "# How can we take dynamic args in a function? Lets see\n",
    "def func(**args):\n",
    "    for x in args:\n",
    "        print(\"The varible name is:\",x, \"The value of the varble is:\",args[x])\n",
    "        "
   ]
  },
  {
   "cell_type": "code",
   "execution_count": 30,
   "id": "e8d4d92e",
   "metadata": {},
   "outputs": [
    {
     "name": "stdout",
     "output_type": "stream",
     "text": [
      "The varible name is: a The value of the varble is: 4\n",
      "The varible name is: b The value of the varble is: hello\n",
      "The varible name is: c The value of the varble is: chat\n",
      "The varible name is: d The value of the varble is: 5.6\n"
     ]
    }
   ],
   "source": [
    "func(a=4,b='hello',c='chat',d=5.6) # This is like dictionary assigning key and value pair."
   ]
  },
  {
   "cell_type": "code",
   "execution_count": 31,
   "id": "202eebbf",
   "metadata": {},
   "outputs": [],
   "source": [
    "# Default value in function\n",
    "def fun(s=0):\n",
    "    print(s)"
   ]
  },
  {
   "cell_type": "code",
   "execution_count": 32,
   "id": "e414ef4e",
   "metadata": {},
   "outputs": [
    {
     "name": "stdout",
     "output_type": "stream",
     "text": [
      "0\n"
     ]
    }
   ],
   "source": [
    "fun() # This will print default value assigned to s during invocation of the function.\n",
    "# Remember the default value is assigned during call of the function later it can be overwritten () \n",
    "# by another variable as below"
   ]
  },
  {
   "cell_type": "code",
   "execution_count": 33,
   "id": "851e8304",
   "metadata": {},
   "outputs": [
    {
     "name": "stdout",
     "output_type": "stream",
     "text": [
      "56\n"
     ]
    }
   ],
   "source": [
    "fun(56) #This will print 56 because 56 is copied to s variable when it is called."
   ]
  },
  {
   "cell_type": "code",
   "execution_count": 34,
   "id": "ba128dc7",
   "metadata": {},
   "outputs": [
    {
     "name": "stdout",
     "output_type": "stream",
     "text": [
      "0\n"
     ]
    }
   ],
   "source": [
    "fun() # Passed varible or value just get copied and then after execution it is erased. (Call by value)"
   ]
  },
  {
   "cell_type": "code",
   "execution_count": 35,
   "id": "c975c0fd",
   "metadata": {},
   "outputs": [
    {
     "data": {
      "text/plain": [
       "[3, 5, 6]"
      ]
     },
     "execution_count": 35,
     "metadata": {},
     "output_type": "execute_result"
    }
   ],
   "source": [
    "L=[3,5,6] # This is a list\n",
    "L"
   ]
  },
  {
   "cell_type": "code",
   "execution_count": 36,
   "id": "499afb41",
   "metadata": {},
   "outputs": [],
   "source": [
    "L2=L\n",
    "L2[0]=-9"
   ]
  },
  {
   "cell_type": "code",
   "execution_count": 37,
   "id": "0f3e9f6f",
   "metadata": {},
   "outputs": [
    {
     "data": {
      "text/plain": [
       "[-9, 5, 6]"
      ]
     },
     "execution_count": 37,
     "metadata": {},
     "output_type": "execute_result"
    }
   ],
   "source": [
    "L # Print [-9,5,6] because when L is assigned to L2 it assigned by reference so changing L2 also change L"
   ]
  },
  {
   "cell_type": "code",
   "execution_count": 38,
   "id": "125d8037",
   "metadata": {},
   "outputs": [],
   "source": [
    "def fun(L=[1,2,4]):\n",
    "    for i in L:\n",
    "        print(i)"
   ]
  },
  {
   "cell_type": "code",
   "execution_count": 39,
   "id": "9657d5ca",
   "metadata": {},
   "outputs": [
    {
     "name": "stdout",
     "output_type": "stream",
     "text": [
      "1\n",
      "2\n",
      "4\n"
     ]
    }
   ],
   "source": [
    "fun()"
   ]
  },
  {
   "cell_type": "code",
   "execution_count": 40,
   "id": "cdb1e6f7",
   "metadata": {},
   "outputs": [
    {
     "name": "stdout",
     "output_type": "stream",
     "text": [
      "5\n",
      "6\n",
      "3\n"
     ]
    }
   ],
   "source": [
    "L2=[5,6,3]\n",
    "fun(L2)"
   ]
  },
  {
   "cell_type": "code",
   "execution_count": 41,
   "id": "9f6d5432",
   "metadata": {},
   "outputs": [
    {
     "name": "stdout",
     "output_type": "stream",
     "text": [
      "1\n",
      "2\n",
      "4\n"
     ]
    }
   ],
   "source": [
    "fun() # Because L2 just get copied in L while invoked and then erased from that"
   ]
  },
  {
   "cell_type": "code",
   "execution_count": 42,
   "id": "20763897",
   "metadata": {},
   "outputs": [],
   "source": [
    "# importing created module from my computer\n",
    "import sys\n",
    "sys.path.append(\"C:\\module\")\n",
    "# import Module as mdl\n",
    "from Module import add"
   ]
  },
  {
   "cell_type": "code",
   "execution_count": 43,
   "id": "e6874e15",
   "metadata": {},
   "outputs": [
    {
     "name": "stdout",
     "output_type": "stream",
     "text": [
      "Object `mdl.add` not found.\n"
     ]
    }
   ],
   "source": [
    "mdl.add??"
   ]
  },
  {
   "cell_type": "code",
   "execution_count": 44,
   "id": "1f592eea",
   "metadata": {},
   "outputs": [
    {
     "ename": "NameError",
     "evalue": "name 'mdl' is not defined",
     "output_type": "error",
     "traceback": [
      "\u001b[1;31m---------------------------------------------------------------------------\u001b[0m",
      "\u001b[1;31mNameError\u001b[0m                                 Traceback (most recent call last)",
      "Input \u001b[1;32mIn [44]\u001b[0m, in \u001b[0;36m<cell line: 1>\u001b[1;34m()\u001b[0m\n\u001b[1;32m----> 1\u001b[0m \u001b[43mmdl\u001b[49m\u001b[38;5;241m.\u001b[39madd(\u001b[38;5;241m3\u001b[39m,\u001b[38;5;241m3\u001b[39m,\u001b[38;5;241m5\u001b[39m)\n",
      "\u001b[1;31mNameError\u001b[0m: name 'mdl' is not defined"
     ]
    }
   ],
   "source": [
    "mdl.add(3,3,5)"
   ]
  },
  {
   "cell_type": "code",
   "execution_count": 45,
   "id": "fb098ddc",
   "metadata": {},
   "outputs": [
    {
     "data": {
      "text/plain": [
       "61"
      ]
     },
     "execution_count": 45,
     "metadata": {},
     "output_type": "execute_result"
    }
   ],
   "source": [
    "add(4,52, 5)"
   ]
  },
  {
   "cell_type": "code",
   "execution_count": null,
   "id": "ef827a1c",
   "metadata": {},
   "outputs": [],
   "source": [
    "# sort a given list using function\n",
    "def sort(L):\n",
    "    min_indx=0\n",
    "    count = 0\n",
    "    while(count!=len(L)):\n",
    "        for i in range(min_indx,len(L)):\n",
    "            if L[min_indx]>L[i]:\n",
    "                temp = L[min_indx]\n",
    "                L[min_indx]=L[i]\n",
    "                L[i]=temp\n",
    "                min_indx=i\n",
    "    count = count+1\n",
    "    return L"
   ]
  },
  {
   "cell_type": "code",
   "execution_count": null,
   "id": "7c9f752e",
   "metadata": {},
   "outputs": [],
   "source": [
    "# you have two variables a and b\n",
    "# create a function that will add these two variable."
   ]
  },
  {
   "cell_type": "code",
   "execution_count": null,
   "id": "b18f8786",
   "metadata": {},
   "outputs": [],
   "source": [
    "find some lecture on basics of python on youtube.\n",
    "https://www.youtube.com/watch?v=rfscVS0vtbw&ab_channel=freeCodeCamp.org"
   ]
  }
 ],
 "metadata": {
  "kernelspec": {
   "display_name": "Python 3 (ipykernel)",
   "language": "python",
   "name": "python3"
  },
  "language_info": {
   "codemirror_mode": {
    "name": "ipython",
    "version": 3
   },
   "file_extension": ".py",
   "mimetype": "text/x-python",
   "name": "python",
   "nbconvert_exporter": "python",
   "pygments_lexer": "ipython3",
   "version": "3.9.12"
  }
 },
 "nbformat": 4,
 "nbformat_minor": 5
}
